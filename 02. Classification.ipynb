{
 "cells": [
  {
   "cell_type": "code",
   "execution_count": 8,
   "metadata": {},
   "outputs": [],
   "source": [
    "from dotenv import load_dotenv\n",
    "import os\n",
    "load_dotenv()\n",
    "api_key = os.getenv(TU_CLAVE_SECRETA)"
   ]
  },
  {
   "cell_type": "code",
   "execution_count": 10,
   "metadata": {},
   "outputs": [
    {
     "name": "stdout",
     "output_type": "stream",
     "text": [
      "         Animal Clasificación\n",
      "0         zebra      mamífero\n",
      "1  ballena azul      mamífero\n",
      "2     oso polar      mamífero\n",
      "3         perro      mamífero\n",
      "4     cocodrilo        reptil\n",
      "5     lagartija        reptil\n",
      "6        iguana        reptil\n"
     ]
    }
   ],
   "source": [
    "from openai import OpenAI  \n",
    "import pandas as pd\n",
    "\n",
    "# Creamos el cliente con tu clave secreta\n",
    "client = OpenAI(api_key=TU_CLAVE_SECRETA)\n",
    "\n",
    "# Ejemplo de uso con los 7 animales\n",
    "df_animales = pd.DataFrame({\n",
    "    \"Animal\": [\"zebra\", \"ballena azul\", \"oso polar\",\n",
    "    \"perro\", \"cocodrilo\", \"lagartija\", \"iguana\"]\n",
    "})\n",
    "\n",
    "resultados = []\n",
    "\n",
    "# Iteramos sobre cada animal\n",
    "for animal in df_animales[\"Animal\"]:\n",
    "    # Enviamos una pregunta al modelo GPT para clasificar el animal\n",
    "    respuesta = client.chat.completions.create(\n",
    "        model=\"gpt-4o-mini\",\n",
    "        messages=[{\n",
    "            \"role\": \"user\",\n",
    "            \"content\": f\"\"\"¿El animal '{animal}' es un mamífero o un reptil?\n",
    "            Solo responde con 'mamífero' o 'reptil'.\"\"\"\n",
    "        }],\n",
    "        max_tokens=10\n",
    "    )\n",
    "\n",
    "    clasificacion = respuesta.choices[0].message.content.strip().lower().replace(\".\", \"\")\n",
    "    resultados.append(clasificacion)\n",
    "\n",
    "df_animales[\"Clasificación\"] = resultados\n",
    "print(df_animales)"
   ]
  }
 ],
 "metadata": {
  "kernelspec": {
   "display_name": "Python 3",
   "language": "python",
   "name": "python3"
  },
  "language_info": {
   "codemirror_mode": {
    "name": "ipython",
    "version": 3
   },
   "file_extension": ".py",
   "mimetype": "text/x-python",
   "name": "python",
   "nbconvert_exporter": "python",
   "pygments_lexer": "ipython3",
   "version": "3.8.10"
  },
  "orig_nbformat": 4
 },
 "nbformat": 4,
 "nbformat_minor": 2
}
