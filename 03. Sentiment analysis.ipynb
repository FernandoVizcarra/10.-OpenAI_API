{
 "cells": [
  {
   "cell_type": "code",
   "execution_count": 1,
   "metadata": {},
   "outputs": [],
   "source": [
    "from dotenv import load_dotenv\n",
    "import os\n",
    "load_dotenv()\n",
    "api_key = os.getenv(\"TU_CLAVE_SECRETA\")"
   ]
  },
  {
   "cell_type": "code",
   "execution_count": 7,
   "metadata": {},
   "outputs": [
    {
     "name": "stdout",
     "output_type": "stream",
     "text": [
      "                                              review Sentimiento\n",
      "0                          El servicio fue muy lento    negativo\n",
      "1                            La carne tuvo mal sabor    negativo\n",
      "2               La comida fue decente, puede mejorar      neutro\n",
      "3  My comida tardó demasiado, pero la bebida estu...       mixto\n"
     ]
    }
   ],
   "source": [
    "from openai import OpenAI  \n",
    "import pandas as pd\n",
    "\n",
    "# Creamos el cliente con tu clave secreta\n",
    "client = OpenAI(api_key=api_key)\n",
    "\n",
    "# Ejemplo de uso con 4 comentarios de un restaurante\n",
    "df_comentarios = pd.DataFrame({\n",
    "    \"review\": [\"El servicio fue muy lento\",\n",
    "               \"La carne tuvo mal sabor\",\n",
    "               \"La comida fue decente, puede mejorar\",\n",
    "               \"My comida tardó demasiado, pero la bebida estuvo excelente\"]\n",
    "})\n",
    "\n",
    "resultados = []\n",
    "\n",
    "# Iteramos sobre cada comentario\n",
    "for review in df_comentarios[\"review\"]:\n",
    "    # Enviamos una pregunta al modelo GPT para clasificar el comentario\n",
    "    respuesta = client.chat.completions.create(\n",
    "        model=\"gpt-4o-mini\",\n",
    "        messages=[{\n",
    "            \"role\": \"user\",\n",
    "            \"content\": f\"\"\"Clasifica el sentimiento del siguiente comentario '{review}'\n",
    "            respondiendo solo, si es \"positivo\", \"negativo\", \"neutro\" o \"mixto\".\"\"\"\n",
    "        }],\n",
    "        max_tokens=10\n",
    "    )\n",
    "\n",
    "    clasificacion = respuesta.choices[0].message.content.strip().lower().replace(\".\", \"\")\n",
    "    resultados.append(clasificacion)\n",
    "\n",
    "df_comentarios[\"Sentimiento\"] = resultados\n",
    "print(df_comentarios)"
   ]
  }
 ],
 "metadata": {
  "kernelspec": {
   "display_name": "Python 3",
   "language": "python",
   "name": "python3"
  },
  "language_info": {
   "codemirror_mode": {
    "name": "ipython",
    "version": 3
   },
   "file_extension": ".py",
   "mimetype": "text/x-python",
   "name": "python",
   "nbconvert_exporter": "python",
   "pygments_lexer": "ipython3",
   "version": "3.8.10"
  },
  "orig_nbformat": 4
 },
 "nbformat": 4,
 "nbformat_minor": 2
}
