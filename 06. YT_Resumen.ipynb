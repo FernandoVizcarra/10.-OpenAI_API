{
 "cells": [
  {
   "cell_type": "code",
   "execution_count": 28,
   "metadata": {},
   "outputs": [],
   "source": [
    "from dotenv import load_dotenv\n",
    "import os\n",
    "load_dotenv()\n",
    "api_key = os.getenv(\"TU_CLAVE_SECRETA_2\")"
   ]
  },
  {
   "cell_type": "code",
   "execution_count": 29,
   "metadata": {},
   "outputs": [],
   "source": [
    "from openai import OpenAI  \n",
    "import pandas as pd\n",
    "from youtube_transcript_api import YouTubeTranscriptApi\n",
    "import yt_dlp"
   ]
  },
  {
   "cell_type": "code",
   "execution_count": 30,
   "metadata": {},
   "outputs": [],
   "source": [
    "# Función para procesar cada URL y obtener la información del video\n",
    "def summary_video_yt(youtube_url):\n",
    "    try:\n",
    "        # Obtener información del video con yt_dlp\n",
    "        ydl_opts = {}\n",
    "        with yt_dlp.YoutubeDL(ydl_opts) as ydl:\n",
    "            info = ydl.extract_info(youtube_url, download=False)\n",
    "\n",
    "        video_info = {\n",
    "            \"Titulo\": info.get(\"title\"),\n",
    "            \"Autor\": info.get(\"uploader\"),\n",
    "            \"Duracion\": info.get(\"duration\"),\n",
    "            \"Fecha_Publicacion\": info.get(\"upload_date\"),\n",
    "            \"URL\": youtube_url\n",
    "        }\n",
    "\n",
    "        # Obtener el ID del video\n",
    "        video_id = info.get(\"id\")\n",
    "\n",
    "        # Obtener transcript\n",
    "        transcript = YouTubeTranscriptApi.get_transcript(video_id, languages=['es', 'en'])\n",
    "        transcript_text = \" \".join([entry['text'] for entry in transcript])\n",
    "\n",
    "        # Agregar el transcript al diccionario\n",
    "        video_info[\"Transcript\"] = transcript_text\n",
    "\n",
    "        # Conectamos con OpenAI\n",
    "        client = OpenAI(api_key=api_key)\n",
    "\n",
    "        respuesta = client.chat.completions.create(\n",
    "            model=\"gpt-4o-mini\",\n",
    "            messages=[{\n",
    "                \"role\": \"user\",\n",
    "                \"content\": f\"\"\"Un resumen de la siguiente transcript,\n",
    "                sabiendo que el titulo es: '{video_info[\"Titulo\"]}',\n",
    "                el autor es: '{video_info[\"Autor\"]}'\n",
    "                la duración es: '{video_info[\"Duracion\"]}',\n",
    "                la fecha de publicación es:'{video_info[\"Fecha_Publicacion\"]}',\n",
    "                el url es: '{video_info[\"URL\"]}'\n",
    "                y la transcripcion es:'{video_info[\"Transcript\"]}'\n",
    "                este resumen debe responder al tema del titulo\n",
    "                y debe mostrar inicialmente los datos de titulo, \n",
    "                autor, duración, fecha de publicación y \n",
    "                url del transcript, seguidamente del resumen en menos de 100 palabras\"\"\"\n",
    "        }],\n",
    "        max_tokens=400)\n",
    "\n",
    "        summary = respuesta.choices[0].message.content.strip()\n",
    "\n",
    "        return summary\n",
    "\n",
    "    except Exception as e:\n",
    "        # En caso de error, devolver información incompleta con el error\n",
    "        return {\n",
    "            \"Titulo\": None,\n",
    "            \"Autor\": None,\n",
    "            \"Duracion\": None,\n",
    "            \"Fecha_Publicacion\": None,\n",
    "            \"URL\": youtube_url,\n",
    "            \"Transcript\": f\"Error: {e}\",\n",
    "        }"
   ]
  },
  {
   "cell_type": "code",
   "execution_count": 31,
   "metadata": {},
   "outputs": [
    {
     "name": "stderr",
     "output_type": "stream",
     "text": [
      "Deprecated Feature: Support for Python version 3.8 has been deprecated. Please update to Python 3.9 or above\n"
     ]
    },
    {
     "name": "stdout",
     "output_type": "stream",
     "text": [
      "[youtube] Extracting URL: https://www.youtube.com/watch?v=DiXbQaDzB_c&ab_channel=LiveNOWfromFOX\n",
      "[youtube] DiXbQaDzB_c: Downloading webpage\n",
      "[youtube] DiXbQaDzB_c: Downloading ios player API JSON\n",
      "[youtube] DiXbQaDzB_c: Downloading mweb player API JSON\n",
      "[youtube] DiXbQaDzB_c: Downloading player 6450230e\n"
     ]
    },
    {
     "name": "stderr",
     "output_type": "stream",
     "text": [
      "WARNING: [youtube] Falling back to generic n function search\n",
      "         player = https://www.youtube.com/s/player/6450230e/player_ias.vflset/en_US/base.js\n",
      "WARNING: [youtube] DiXbQaDzB_c: nsig extraction failed: Some formats may be missing\n",
      "         n = qZrpt0bKmtyIt6IW ; player = https://www.youtube.com/s/player/6450230e/player_ias.vflset/en_US/base.js\n",
      "WARNING: [youtube] Falling back to generic n function search\n",
      "         player = https://www.youtube.com/s/player/6450230e/player_ias.vflset/en_US/base.js\n",
      "WARNING: [youtube] DiXbQaDzB_c: nsig extraction failed: Some formats may be missing\n",
      "         n = Iyi1HIaEk6jEIOSM ; player = https://www.youtube.com/s/player/6450230e/player_ias.vflset/en_US/base.js\n"
     ]
    },
    {
     "name": "stdout",
     "output_type": "stream",
     "text": [
      "[youtube] DiXbQaDzB_c: Downloading m3u8 information\n"
     ]
    }
   ],
   "source": [
    "resumen = summary_video_yt(\"https://www.youtube.com/watch?v=DiXbQaDzB_c&ab_channel=LiveNOWfromFOX\")"
   ]
  },
  {
   "cell_type": "code",
   "execution_count": 32,
   "metadata": {},
   "outputs": [
    {
     "name": "stdout",
     "output_type": "stream",
     "text": [
      "**Título:** Full: President Trump takes questions in Oval\n",
      "Office\n",
      "**Autor:** LiveNOW from FOX\n",
      "**Duración:** 1322\n",
      "**Fecha de publicación:** 20250422\n",
      "**URL:** [Ver video](https://www.youtube.com/watch?v=DiXbQaD\n",
      "zB_c&ab_channel=LiveNOWfromFOX)\n",
      "\n",
      "En esta conferencia, el presidente Trump presenta y\n",
      "juramenta al nuevo presidente de la SEC, Paul Atkins,\n",
      "destacando su experiencia en la regulación de mercados y su\n",
      "compromiso con la innovación en criptomonedas. Atkins\n",
      "enfatiza su enfoque en la protección de los inversores y la\n",
      "transparencia en la regulación. Trump también aborda temas\n",
      "de comercio internacional, la relación con China y los\n",
      "avances en la economía estadounidense. Además, se discuten\n",
      "cuestiones de seguridad nacional y políticas migratorias.\n"
     ]
    }
   ],
   "source": [
    "import textwrap\n",
    "parrafos = resumen.split('\\n')\n",
    "parrafos_formateados = [textwrap.fill(parrafo, width=60) for parrafo in parrafos]\n",
    "texto_formateado = '\\n'.join(parrafos_formateados)\n",
    "print(texto_formateado)\n"
   ]
  },
  {
   "cell_type": "code",
   "execution_count": 2,
   "metadata": {},
   "outputs": [],
   "source": []
  }
 ],
 "metadata": {
  "kernelspec": {
   "display_name": "Python 3",
   "language": "python",
   "name": "python3"
  },
  "language_info": {
   "codemirror_mode": {
    "name": "ipython",
    "version": 3
   },
   "file_extension": ".py",
   "mimetype": "text/x-python",
   "name": "python",
   "nbconvert_exporter": "python",
   "pygments_lexer": "ipython3",
   "version": "3.8.10"
  },
  "orig_nbformat": 4
 },
 "nbformat": 4,
 "nbformat_minor": 2
}
