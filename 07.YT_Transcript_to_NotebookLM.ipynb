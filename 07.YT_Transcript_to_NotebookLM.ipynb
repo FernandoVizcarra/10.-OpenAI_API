{
 "cells": [
  {
   "cell_type": "code",
   "execution_count": 10,
   "metadata": {},
   "outputs": [],
   "source": [
    "from openai import OpenAI  \n",
    "import pandas as pd\n",
    "from youtube_transcript_api import YouTubeTranscriptApi\n",
    "import yt_dlp\n",
    "import textwrap"
   ]
  },
  {
   "cell_type": "code",
   "execution_count": null,
   "metadata": {},
   "outputs": [],
   "source": []
  },
  {
   "cell_type": "code",
   "execution_count": 11,
   "metadata": {},
   "outputs": [],
   "source": [
    "# Función para procesar cada URL y obtener la información del video\n",
    "def get_video_info_and_transcript(youtube_url):\n",
    "    try:\n",
    "        # Obtener información del video con yt_dlp\n",
    "        ydl_opts = {}\n",
    "        with yt_dlp.YoutubeDL(ydl_opts) as ydl:\n",
    "            info = ydl.extract_info(youtube_url, download=False)\n",
    "\n",
    "        video_info = {\n",
    "            \"Titulo\": info.get(\"title\"),\n",
    "            \"Autor\": info.get(\"uploader\"),\n",
    "            \"Duracion\": info.get(\"duration\"),\n",
    "            \"Fecha_Publicacion\": info.get(\"upload_date\"),\n",
    "            \"URL\": youtube_url\n",
    "        }\n",
    "\n",
    "        # Obtener el ID del video\n",
    "        video_id = info.get(\"id\")\n",
    "\n",
    "        # Obtener transcript\n",
    "        transcript = YouTubeTranscriptApi.get_transcript(video_id, languages=['es', 'en'])\n",
    "        transcript_text = \" \".join([entry['text'] for entry in transcript])\n",
    "\n",
    "        # Agregar el transcript al diccionario\n",
    "        video_info[\"Transcript\"] = transcript_text\n",
    "\n",
    "        # Convertir a md dentro del diccionario\n",
    "        transcript_n = '\\n'.join([textwrap.fill(p, width=80) for p in video_info['Transcript'].split('\\n')])\n",
    "\n",
    "        # Crear contenido Markdown\n",
    "        contenido_md = f\"\"\"# {video_info['Titulo']}\n",
    "\n",
    "        **Autor:** {video_info['Autor']}  \n",
    "        **Duración:** {video_info['Duracion']}  \n",
    "        **Fecha:** {video_info['Fecha_Publicacion']}  \n",
    "        **URL:** [{video_info['URL']}]({video_info['URL']})\n",
    "        ## Transcript\n",
    "\n",
    "        {transcript_n}\n",
    "        \"\"\"\n",
    "\n",
    "        video_info[\"md_format\"] = contenido_md\n",
    "\n",
    "\n",
    "\n",
    "        return video_info[\"md_format\"]\n",
    "\n",
    "    except Exception as e:\n",
    "        # En caso de error, devolver información incompleta con el error\n",
    "        return {\n",
    "            \"Titulo\": None,\n",
    "            \"Autor\": None,\n",
    "            \"Duracion\": None,\n",
    "            \"Fecha_Publicacion\": None,\n",
    "            \"URL\": youtube_url,\n",
    "            \"Transcript\": f\"Error: {e}\",\n",
    "        }"
   ]
  },
  {
   "cell_type": "code",
   "execution_count": 29,
   "metadata": {},
   "outputs": [],
   "source": [
    "ruta_excel = \"07. List_YT_04_20250503.xlsx\"\n",
    "df_yt = pd.read_excel(ruta_excel)"
   ]
  },
  {
   "cell_type": "code",
   "execution_count": 30,
   "metadata": {},
   "outputs": [
    {
     "name": "stderr",
     "output_type": "stream",
     "text": [
      "Deprecated Feature: Support for Python version 3.8 has been deprecated. Please update to Python 3.9 or above\n"
     ]
    },
    {
     "name": "stdout",
     "output_type": "stream",
     "text": [
      "[youtube] Extracting URL: https://www.youtube.com/watch?v=eRvOVINVlo4&ab_channel=VictorHInvesting\n",
      "[youtube] eRvOVINVlo4: Downloading webpage\n",
      "[youtube] eRvOVINVlo4: Downloading ios player API JSON\n",
      "[youtube] eRvOVINVlo4: Downloading mweb player API JSON\n",
      "[youtube] eRvOVINVlo4: Downloading player aa3fc80b\n"
     ]
    },
    {
     "name": "stderr",
     "output_type": "stream",
     "text": [
      "WARNING: [youtube] Falling back to generic n function search\n",
      "         player = https://www.youtube.com/s/player/aa3fc80b/player_ias.vflset/en_US/base.js\n",
      "WARNING: [youtube] eRvOVINVlo4: nsig extraction failed: Some formats may be missing\n",
      "         n = 62eg9k9M2JXx_JYI4p6zTL ; player = https://www.youtube.com/s/player/aa3fc80b/player_ias.vflset/en_US/base.js\n",
      "WARNING: [youtube] Falling back to generic n function search\n",
      "         player = https://www.youtube.com/s/player/aa3fc80b/player_ias.vflset/en_US/base.js\n",
      "WARNING: [youtube] eRvOVINVlo4: nsig extraction failed: Some formats may be missing\n",
      "         n = qWyqsR6tSnQKK1TPyK7xRH ; player = https://www.youtube.com/s/player/aa3fc80b/player_ias.vflset/en_US/base.js\n"
     ]
    },
    {
     "name": "stdout",
     "output_type": "stream",
     "text": [
      "[youtube] eRvOVINVlo4: Downloading m3u8 information\n"
     ]
    },
    {
     "name": "stderr",
     "output_type": "stream",
     "text": [
      "Deprecated Feature: Support for Python version 3.8 has been deprecated. Please update to Python 3.9 or above\n"
     ]
    },
    {
     "name": "stdout",
     "output_type": "stream",
     "text": [
      "[youtube] Extracting URL: https://www.youtube.com/watch?v=vsMKDfMWseU&ab_channel=DanielLacalle\n",
      "[youtube] vsMKDfMWseU: Downloading webpage\n",
      "[youtube] vsMKDfMWseU: Downloading ios player API JSON\n",
      "[youtube] vsMKDfMWseU: Downloading mweb player API JSON\n",
      "[youtube] vsMKDfMWseU: Downloading player aa3fc80b\n"
     ]
    },
    {
     "name": "stderr",
     "output_type": "stream",
     "text": [
      "WARNING: [youtube] Falling back to generic n function search\n",
      "         player = https://www.youtube.com/s/player/aa3fc80b/player_ias.vflset/en_US/base.js\n",
      "WARNING: [youtube] vsMKDfMWseU: nsig extraction failed: Some formats may be missing\n",
      "         n = zeiAHdJpzR978CixbygjAA ; player = https://www.youtube.com/s/player/aa3fc80b/player_ias.vflset/en_US/base.js\n",
      "WARNING: [youtube] Falling back to generic n function search\n",
      "         player = https://www.youtube.com/s/player/aa3fc80b/player_ias.vflset/en_US/base.js\n",
      "WARNING: [youtube] vsMKDfMWseU: nsig extraction failed: Some formats may be missing\n",
      "         n = SZtPgNFYmvjRoeCvQEd3F4 ; player = https://www.youtube.com/s/player/aa3fc80b/player_ias.vflset/en_US/base.js\n"
     ]
    },
    {
     "name": "stdout",
     "output_type": "stream",
     "text": [
      "[youtube] vsMKDfMWseU: Downloading m3u8 information\n",
      "[info] Testing format 616\n"
     ]
    },
    {
     "name": "stderr",
     "output_type": "stream",
     "text": [
      "Deprecated Feature: Support for Python version 3.8 has been deprecated. Please update to Python 3.9 or above\n"
     ]
    },
    {
     "name": "stdout",
     "output_type": "stream",
     "text": [
      "[youtube] Extracting URL: https://www.youtube.com/watch?v=tIlOAmY_MZU&t=12s&ab_channel=VictorHInvesting\n",
      "[youtube] tIlOAmY_MZU: Downloading webpage\n",
      "[youtube] tIlOAmY_MZU: Downloading ios player API JSON\n",
      "[youtube] tIlOAmY_MZU: Downloading mweb player API JSON\n",
      "[youtube] tIlOAmY_MZU: Downloading player aa3fc80b\n"
     ]
    },
    {
     "name": "stderr",
     "output_type": "stream",
     "text": [
      "WARNING: [youtube] Falling back to generic n function search\n",
      "         player = https://www.youtube.com/s/player/aa3fc80b/player_ias.vflset/en_US/base.js\n",
      "WARNING: [youtube] tIlOAmY_MZU: nsig extraction failed: Some formats may be missing\n",
      "         n = 4W3UgPU2qNRXyBxM57d_GH ; player = https://www.youtube.com/s/player/aa3fc80b/player_ias.vflset/en_US/base.js\n",
      "WARNING: [youtube] Falling back to generic n function search\n",
      "         player = https://www.youtube.com/s/player/aa3fc80b/player_ias.vflset/en_US/base.js\n",
      "WARNING: [youtube] tIlOAmY_MZU: nsig extraction failed: Some formats may be missing\n",
      "         n = VnN1yzryL97DN4VgDQj-X5 ; player = https://www.youtube.com/s/player/aa3fc80b/player_ias.vflset/en_US/base.js\n"
     ]
    },
    {
     "name": "stdout",
     "output_type": "stream",
     "text": [
      "[youtube] tIlOAmY_MZU: Downloading m3u8 information\n"
     ]
    },
    {
     "name": "stderr",
     "output_type": "stream",
     "text": [
      "Deprecated Feature: Support for Python version 3.8 has been deprecated. Please update to Python 3.9 or above\n"
     ]
    },
    {
     "name": "stdout",
     "output_type": "stream",
     "text": [
      "[youtube] Extracting URL: https://www.youtube.com/watch?v=aXroGOjSiRs&ab_channel=ARENAALFA\n",
      "[youtube] aXroGOjSiRs: Downloading webpage\n",
      "[youtube] aXroGOjSiRs: Downloading ios player API JSON\n",
      "[youtube] aXroGOjSiRs: Downloading mweb player API JSON\n",
      "[youtube] aXroGOjSiRs: Downloading player aa3fc80b\n"
     ]
    },
    {
     "name": "stderr",
     "output_type": "stream",
     "text": [
      "WARNING: [youtube] Falling back to generic n function search\n",
      "         player = https://www.youtube.com/s/player/aa3fc80b/player_ias.vflset/en_US/base.js\n",
      "WARNING: [youtube] aXroGOjSiRs: nsig extraction failed: Some formats may be missing\n",
      "         n = dVBsK2APx7mVEZbXNGeAuN ; player = https://www.youtube.com/s/player/aa3fc80b/player_ias.vflset/en_US/base.js\n",
      "WARNING: [youtube] Falling back to generic n function search\n",
      "         player = https://www.youtube.com/s/player/aa3fc80b/player_ias.vflset/en_US/base.js\n",
      "WARNING: [youtube] aXroGOjSiRs: nsig extraction failed: Some formats may be missing\n",
      "         n = s6RtfMN_UIWBe3iFoJB0JD ; player = https://www.youtube.com/s/player/aa3fc80b/player_ias.vflset/en_US/base.js\n"
     ]
    },
    {
     "name": "stdout",
     "output_type": "stream",
     "text": [
      "[youtube] aXroGOjSiRs: Downloading m3u8 information\n",
      "[info] Testing format 616\n"
     ]
    },
    {
     "name": "stderr",
     "output_type": "stream",
     "text": [
      "Deprecated Feature: Support for Python version 3.8 has been deprecated. Please update to Python 3.9 or above\n"
     ]
    },
    {
     "name": "stdout",
     "output_type": "stream",
     "text": [
      "[youtube] Extracting URL: https://www.youtube.com/watch?v=7lfb7rHgOWU&ab_channel=HectorChamizo\n",
      "[youtube] 7lfb7rHgOWU: Downloading webpage\n",
      "[youtube] 7lfb7rHgOWU: Downloading ios player API JSON\n",
      "[youtube] 7lfb7rHgOWU: Downloading mweb player API JSON\n",
      "[youtube] 7lfb7rHgOWU: Downloading player aa3fc80b\n"
     ]
    },
    {
     "name": "stderr",
     "output_type": "stream",
     "text": [
      "WARNING: [youtube] Falling back to generic n function search\n",
      "         player = https://www.youtube.com/s/player/aa3fc80b/player_ias.vflset/en_US/base.js\n",
      "WARNING: [youtube] 7lfb7rHgOWU: nsig extraction failed: Some formats may be missing\n",
      "         n = 2CFgknIw7KIv5AjNCXNpDS ; player = https://www.youtube.com/s/player/aa3fc80b/player_ias.vflset/en_US/base.js\n",
      "WARNING: [youtube] Falling back to generic n function search\n",
      "         player = https://www.youtube.com/s/player/aa3fc80b/player_ias.vflset/en_US/base.js\n",
      "WARNING: [youtube] 7lfb7rHgOWU: nsig extraction failed: Some formats may be missing\n",
      "         n = qUOE0EnXxHO0l7EhjuES9K ; player = https://www.youtube.com/s/player/aa3fc80b/player_ias.vflset/en_US/base.js\n"
     ]
    },
    {
     "name": "stdout",
     "output_type": "stream",
     "text": [
      "[youtube] 7lfb7rHgOWU: Downloading m3u8 information\n"
     ]
    },
    {
     "name": "stderr",
     "output_type": "stream",
     "text": [
      "Deprecated Feature: Support for Python version 3.8 has been deprecated. Please update to Python 3.9 or above\n"
     ]
    },
    {
     "name": "stdout",
     "output_type": "stream",
     "text": [
      "[youtube] Extracting URL: https://www.youtube.com/watch?v=C3pjJVIbigk&ab_channel=HectorChamizo\n",
      "[youtube] C3pjJVIbigk: Downloading webpage\n",
      "[youtube] C3pjJVIbigk: Downloading ios player API JSON\n",
      "[youtube] C3pjJVIbigk: Downloading mweb player API JSON\n",
      "[youtube] C3pjJVIbigk: Downloading player aa3fc80b\n"
     ]
    },
    {
     "name": "stderr",
     "output_type": "stream",
     "text": [
      "WARNING: [youtube] Falling back to generic n function search\n",
      "         player = https://www.youtube.com/s/player/aa3fc80b/player_ias.vflset/en_US/base.js\n",
      "WARNING: [youtube] C3pjJVIbigk: nsig extraction failed: Some formats may be missing\n",
      "         n = Y4SBLkPMGcZaniCGXCu9dK ; player = https://www.youtube.com/s/player/aa3fc80b/player_ias.vflset/en_US/base.js\n",
      "WARNING: [youtube] Falling back to generic n function search\n",
      "         player = https://www.youtube.com/s/player/aa3fc80b/player_ias.vflset/en_US/base.js\n",
      "WARNING: [youtube] C3pjJVIbigk: nsig extraction failed: Some formats may be missing\n",
      "         n = NGCKT35ZxZuB08APEQbhf1 ; player = https://www.youtube.com/s/player/aa3fc80b/player_ias.vflset/en_US/base.js\n"
     ]
    },
    {
     "name": "stdout",
     "output_type": "stream",
     "text": [
      "[youtube] C3pjJVIbigk: Downloading m3u8 information\n"
     ]
    },
    {
     "name": "stderr",
     "output_type": "stream",
     "text": [
      "Deprecated Feature: Support for Python version 3.8 has been deprecated. Please update to Python 3.9 or above\n"
     ]
    },
    {
     "name": "stdout",
     "output_type": "stream",
     "text": [
      "[youtube] Extracting URL: https://www.youtube.com/watch?v=Srv3H3ctq0g&ab_channel=HectorChamizo\n",
      "[youtube] Srv3H3ctq0g: Downloading webpage\n",
      "[youtube] Srv3H3ctq0g: Downloading ios player API JSON\n",
      "[youtube] Srv3H3ctq0g: Downloading mweb player API JSON\n",
      "[youtube] Srv3H3ctq0g: Downloading player aa3fc80b\n"
     ]
    },
    {
     "name": "stderr",
     "output_type": "stream",
     "text": [
      "WARNING: [youtube] Falling back to generic n function search\n",
      "         player = https://www.youtube.com/s/player/aa3fc80b/player_ias.vflset/en_US/base.js\n",
      "WARNING: [youtube] Srv3H3ctq0g: nsig extraction failed: Some formats may be missing\n",
      "         n = Sh0Esczl1nbj0IFNfZ8fyM ; player = https://www.youtube.com/s/player/aa3fc80b/player_ias.vflset/en_US/base.js\n",
      "WARNING: [youtube] Falling back to generic n function search\n",
      "         player = https://www.youtube.com/s/player/aa3fc80b/player_ias.vflset/en_US/base.js\n",
      "WARNING: [youtube] Srv3H3ctq0g: nsig extraction failed: Some formats may be missing\n",
      "         n = rW5vAv0_0MIo9bg8T2FmAC ; player = https://www.youtube.com/s/player/aa3fc80b/player_ias.vflset/en_US/base.js\n"
     ]
    },
    {
     "name": "stdout",
     "output_type": "stream",
     "text": [
      "[youtube] Srv3H3ctq0g: Downloading m3u8 information\n",
      "[info] Testing format 616\n"
     ]
    },
    {
     "name": "stderr",
     "output_type": "stream",
     "text": [
      "Deprecated Feature: Support for Python version 3.8 has been deprecated. Please update to Python 3.9 or above\n"
     ]
    },
    {
     "name": "stdout",
     "output_type": "stream",
     "text": [
      "[youtube] Extracting URL: https://www.youtube.com/watch?v=qltcvTFzY0k&ab_channel=VictorHInvesting\n",
      "[youtube] qltcvTFzY0k: Downloading webpage\n",
      "[youtube] qltcvTFzY0k: Downloading ios player API JSON\n",
      "[youtube] qltcvTFzY0k: Downloading mweb player API JSON\n",
      "[youtube] qltcvTFzY0k: Downloading player aa3fc80b\n"
     ]
    },
    {
     "name": "stderr",
     "output_type": "stream",
     "text": [
      "WARNING: [youtube] Falling back to generic n function search\n",
      "         player = https://www.youtube.com/s/player/aa3fc80b/player_ias.vflset/en_US/base.js\n",
      "WARNING: [youtube] qltcvTFzY0k: nsig extraction failed: Some formats may be missing\n",
      "         n = EoKamHEX3Xh_DQhF_U2zdb ; player = https://www.youtube.com/s/player/aa3fc80b/player_ias.vflset/en_US/base.js\n",
      "WARNING: [youtube] Falling back to generic n function search\n",
      "         player = https://www.youtube.com/s/player/aa3fc80b/player_ias.vflset/en_US/base.js\n",
      "WARNING: [youtube] qltcvTFzY0k: nsig extraction failed: Some formats may be missing\n",
      "         n = RgFEif-Xkl4eVZkeWZ4dc0 ; player = https://www.youtube.com/s/player/aa3fc80b/player_ias.vflset/en_US/base.js\n"
     ]
    },
    {
     "name": "stdout",
     "output_type": "stream",
     "text": [
      "[youtube] qltcvTFzY0k: Downloading m3u8 information\n"
     ]
    },
    {
     "name": "stderr",
     "output_type": "stream",
     "text": [
      "Deprecated Feature: Support for Python version 3.8 has been deprecated. Please update to Python 3.9 or above\n"
     ]
    },
    {
     "name": "stdout",
     "output_type": "stream",
     "text": [
      "[youtube] Extracting URL: https://www.youtube.com/watch?v=DRbD9NQo9lA&ab_channel=DanielPronk\n",
      "[youtube] DRbD9NQo9lA: Downloading webpage\n",
      "[youtube] DRbD9NQo9lA: Downloading ios player API JSON\n",
      "[youtube] DRbD9NQo9lA: Downloading mweb player API JSON\n",
      "[youtube] DRbD9NQo9lA: Downloading player aa3fc80b\n"
     ]
    },
    {
     "name": "stderr",
     "output_type": "stream",
     "text": [
      "WARNING: [youtube] Falling back to generic n function search\n",
      "         player = https://www.youtube.com/s/player/aa3fc80b/player_ias.vflset/en_US/base.js\n",
      "WARNING: [youtube] DRbD9NQo9lA: nsig extraction failed: Some formats may be missing\n",
      "         n = 4KCpD_4aTRPH6LKM-aqFX3 ; player = https://www.youtube.com/s/player/aa3fc80b/player_ias.vflset/en_US/base.js\n",
      "WARNING: [youtube] Falling back to generic n function search\n",
      "         player = https://www.youtube.com/s/player/aa3fc80b/player_ias.vflset/en_US/base.js\n",
      "WARNING: [youtube] DRbD9NQo9lA: nsig extraction failed: Some formats may be missing\n",
      "         n = BNbkfvbHzIr_GOAtN8UXIq ; player = https://www.youtube.com/s/player/aa3fc80b/player_ias.vflset/en_US/base.js\n"
     ]
    },
    {
     "name": "stdout",
     "output_type": "stream",
     "text": [
      "[youtube] DRbD9NQo9lA: Downloading m3u8 information\n"
     ]
    },
    {
     "name": "stderr",
     "output_type": "stream",
     "text": [
      "Deprecated Feature: Support for Python version 3.8 has been deprecated. Please update to Python 3.9 or above\n"
     ]
    },
    {
     "name": "stdout",
     "output_type": "stream",
     "text": [
      "[youtube] Extracting URL: https://www.youtube.com/watch?v=aSGpkxphE4o&ab_channel=TomNash\n",
      "[youtube] aSGpkxphE4o: Downloading webpage\n",
      "[youtube] aSGpkxphE4o: Downloading ios player API JSON\n",
      "[youtube] aSGpkxphE4o: Downloading mweb player API JSON\n",
      "[youtube] aSGpkxphE4o: Downloading player aa3fc80b\n"
     ]
    },
    {
     "name": "stderr",
     "output_type": "stream",
     "text": [
      "WARNING: [youtube] Falling back to generic n function search\n",
      "         player = https://www.youtube.com/s/player/aa3fc80b/player_ias.vflset/en_US/base.js\n",
      "WARNING: [youtube] aSGpkxphE4o: nsig extraction failed: Some formats may be missing\n",
      "         n = DrDrxyrnffn2dXgWTWFvsC ; player = https://www.youtube.com/s/player/aa3fc80b/player_ias.vflset/en_US/base.js\n",
      "WARNING: [youtube] Falling back to generic n function search\n",
      "         player = https://www.youtube.com/s/player/aa3fc80b/player_ias.vflset/en_US/base.js\n",
      "WARNING: [youtube] aSGpkxphE4o: nsig extraction failed: Some formats may be missing\n",
      "         n = zAO2Dglj5s5Z8v5FLD14R7 ; player = https://www.youtube.com/s/player/aa3fc80b/player_ias.vflset/en_US/base.js\n"
     ]
    },
    {
     "name": "stdout",
     "output_type": "stream",
     "text": [
      "[youtube] aSGpkxphE4o: Downloading m3u8 information\n"
     ]
    },
    {
     "name": "stderr",
     "output_type": "stream",
     "text": [
      "Deprecated Feature: Support for Python version 3.8 has been deprecated. Please update to Python 3.9 or above\n"
     ]
    },
    {
     "name": "stdout",
     "output_type": "stream",
     "text": [
      "[youtube] Extracting URL: https://www.youtube.com/watch?v=RrIGzPWEC4k&ab_channel=FundstratCapital\n",
      "[youtube] RrIGzPWEC4k: Downloading webpage\n",
      "[youtube] RrIGzPWEC4k: Downloading ios player API JSON\n",
      "[youtube] RrIGzPWEC4k: Downloading mweb player API JSON\n",
      "[youtube] RrIGzPWEC4k: Downloading player aa3fc80b\n"
     ]
    },
    {
     "name": "stderr",
     "output_type": "stream",
     "text": [
      "WARNING: [youtube] Falling back to generic n function search\n",
      "         player = https://www.youtube.com/s/player/aa3fc80b/player_ias.vflset/en_US/base.js\n",
      "WARNING: [youtube] RrIGzPWEC4k: nsig extraction failed: Some formats may be missing\n",
      "         n = tBKdVW2ipCkNsONK0d3yg3 ; player = https://www.youtube.com/s/player/aa3fc80b/player_ias.vflset/en_US/base.js\n",
      "WARNING: [youtube] Falling back to generic n function search\n",
      "         player = https://www.youtube.com/s/player/aa3fc80b/player_ias.vflset/en_US/base.js\n",
      "WARNING: [youtube] RrIGzPWEC4k: nsig extraction failed: Some formats may be missing\n",
      "         n = RQ3TZxdxS9Vv76IyjUtvDD ; player = https://www.youtube.com/s/player/aa3fc80b/player_ias.vflset/en_US/base.js\n"
     ]
    },
    {
     "name": "stdout",
     "output_type": "stream",
     "text": [
      "[youtube] RrIGzPWEC4k: Downloading m3u8 information\n"
     ]
    },
    {
     "name": "stderr",
     "output_type": "stream",
     "text": [
      "Deprecated Feature: Support for Python version 3.8 has been deprecated. Please update to Python 3.9 or above\n"
     ]
    },
    {
     "name": "stdout",
     "output_type": "stream",
     "text": [
      "[youtube] Extracting URL: https://www.youtube.com/watch?v=Ip8Lpa_0nmI&ab_channel=MarkRoussin%2CCPA\n",
      "[youtube] Ip8Lpa_0nmI: Downloading webpage\n",
      "[youtube] Ip8Lpa_0nmI: Downloading ios player API JSON\n",
      "[youtube] Ip8Lpa_0nmI: Downloading mweb player API JSON\n",
      "[youtube] Ip8Lpa_0nmI: Downloading player aa3fc80b\n"
     ]
    },
    {
     "name": "stderr",
     "output_type": "stream",
     "text": [
      "WARNING: [youtube] Falling back to generic n function search\n",
      "         player = https://www.youtube.com/s/player/aa3fc80b/player_ias.vflset/en_US/base.js\n",
      "WARNING: [youtube] Ip8Lpa_0nmI: nsig extraction failed: Some formats may be missing\n",
      "         n = eqiIOXPQzVnsH3RcffR8xU ; player = https://www.youtube.com/s/player/aa3fc80b/player_ias.vflset/en_US/base.js\n",
      "WARNING: [youtube] Falling back to generic n function search\n",
      "         player = https://www.youtube.com/s/player/aa3fc80b/player_ias.vflset/en_US/base.js\n",
      "WARNING: [youtube] Ip8Lpa_0nmI: nsig extraction failed: Some formats may be missing\n",
      "         n = 3lWvkOu9J_N7tBch_Iz_RD ; player = https://www.youtube.com/s/player/aa3fc80b/player_ias.vflset/en_US/base.js\n"
     ]
    },
    {
     "name": "stdout",
     "output_type": "stream",
     "text": [
      "[youtube] Ip8Lpa_0nmI: Downloading m3u8 information\n"
     ]
    },
    {
     "name": "stderr",
     "output_type": "stream",
     "text": [
      "Deprecated Feature: Support for Python version 3.8 has been deprecated. Please update to Python 3.9 or above\n"
     ]
    },
    {
     "name": "stdout",
     "output_type": "stream",
     "text": [
      "[youtube] Extracting URL: https://www.youtube.com/watch?v=9L35jH1H-aQ&ab_channel=LaF%C3%B3rmulaparaInvertir\n",
      "[youtube] 9L35jH1H-aQ: Downloading webpage\n",
      "[youtube] 9L35jH1H-aQ: Downloading ios player API JSON\n",
      "[youtube] 9L35jH1H-aQ: Downloading mweb player API JSON\n",
      "[youtube] 9L35jH1H-aQ: Downloading player aa3fc80b\n"
     ]
    },
    {
     "name": "stderr",
     "output_type": "stream",
     "text": [
      "WARNING: [youtube] Falling back to generic n function search\n",
      "         player = https://www.youtube.com/s/player/aa3fc80b/player_ias.vflset/en_US/base.js\n",
      "WARNING: [youtube] 9L35jH1H-aQ: nsig extraction failed: Some formats may be missing\n",
      "         n = RkNR_6Y7p0FmwgBaZ_O4Ad ; player = https://www.youtube.com/s/player/aa3fc80b/player_ias.vflset/en_US/base.js\n",
      "WARNING: [youtube] Falling back to generic n function search\n",
      "         player = https://www.youtube.com/s/player/aa3fc80b/player_ias.vflset/en_US/base.js\n",
      "WARNING: [youtube] 9L35jH1H-aQ: nsig extraction failed: Some formats may be missing\n",
      "         n = uw31e2_-EPGZ3Us-shJZOW ; player = https://www.youtube.com/s/player/aa3fc80b/player_ias.vflset/en_US/base.js\n"
     ]
    },
    {
     "name": "stdout",
     "output_type": "stream",
     "text": [
      "[youtube] 9L35jH1H-aQ: Downloading m3u8 information\n"
     ]
    },
    {
     "name": "stderr",
     "output_type": "stream",
     "text": [
      "Deprecated Feature: Support for Python version 3.8 has been deprecated. Please update to Python 3.9 or above\n"
     ]
    },
    {
     "name": "stdout",
     "output_type": "stream",
     "text": [
      "[youtube] Extracting URL: https://www.youtube.com/watch?v=je7DooZ40cI&ab_channel=FatTailInvestmentResearch\n",
      "[youtube] je7DooZ40cI: Downloading webpage\n",
      "[youtube] je7DooZ40cI: Downloading ios player API JSON\n",
      "[youtube] je7DooZ40cI: Downloading mweb player API JSON\n",
      "[youtube] je7DooZ40cI: Downloading player aa3fc80b\n"
     ]
    },
    {
     "name": "stderr",
     "output_type": "stream",
     "text": [
      "WARNING: [youtube] Falling back to generic n function search\n",
      "         player = https://www.youtube.com/s/player/aa3fc80b/player_ias.vflset/en_US/base.js\n",
      "WARNING: [youtube] je7DooZ40cI: nsig extraction failed: Some formats may be missing\n",
      "         n = tA_ugKeFQ-cTbwGJQbyOSt ; player = https://www.youtube.com/s/player/aa3fc80b/player_ias.vflset/en_US/base.js\n",
      "WARNING: [youtube] Falling back to generic n function search\n",
      "         player = https://www.youtube.com/s/player/aa3fc80b/player_ias.vflset/en_US/base.js\n",
      "WARNING: [youtube] je7DooZ40cI: nsig extraction failed: Some formats may be missing\n",
      "         n = JaqQga_epwk2wIOGg2jPO3 ; player = https://www.youtube.com/s/player/aa3fc80b/player_ias.vflset/en_US/base.js\n"
     ]
    },
    {
     "name": "stdout",
     "output_type": "stream",
     "text": [
      "[youtube] je7DooZ40cI: Downloading m3u8 information\n"
     ]
    },
    {
     "name": "stderr",
     "output_type": "stream",
     "text": [
      "Deprecated Feature: Support for Python version 3.8 has been deprecated. Please update to Python 3.9 or above\n"
     ]
    },
    {
     "name": "stdout",
     "output_type": "stream",
     "text": [
      "[youtube] Extracting URL: https://www.youtube.com/watch?v=j5MqDj44wYA&ab_channel=ElPlanetaFinanciero-KayserPravia\n",
      "[youtube] j5MqDj44wYA: Downloading webpage\n",
      "[youtube] j5MqDj44wYA: Downloading ios player API JSON\n",
      "[youtube] j5MqDj44wYA: Downloading mweb player API JSON\n",
      "[youtube] j5MqDj44wYA: Downloading player aa3fc80b\n"
     ]
    },
    {
     "name": "stderr",
     "output_type": "stream",
     "text": [
      "WARNING: [youtube] Falling back to generic n function search\n",
      "         player = https://www.youtube.com/s/player/aa3fc80b/player_ias.vflset/en_US/base.js\n",
      "WARNING: [youtube] j5MqDj44wYA: nsig extraction failed: Some formats may be missing\n",
      "         n = 9UqZ3XfrmvQwDHWp4lqWn- ; player = https://www.youtube.com/s/player/aa3fc80b/player_ias.vflset/en_US/base.js\n",
      "WARNING: [youtube] Falling back to generic n function search\n",
      "         player = https://www.youtube.com/s/player/aa3fc80b/player_ias.vflset/en_US/base.js\n",
      "WARNING: [youtube] j5MqDj44wYA: nsig extraction failed: Some formats may be missing\n",
      "         n = qBkF5j3DPY6oeIgZkIiuf8 ; player = https://www.youtube.com/s/player/aa3fc80b/player_ias.vflset/en_US/base.js\n"
     ]
    },
    {
     "name": "stdout",
     "output_type": "stream",
     "text": [
      "[youtube] j5MqDj44wYA: Downloading m3u8 information\n"
     ]
    },
    {
     "name": "stderr",
     "output_type": "stream",
     "text": [
      "Deprecated Feature: Support for Python version 3.8 has been deprecated. Please update to Python 3.9 or above\n"
     ]
    },
    {
     "name": "stdout",
     "output_type": "stream",
     "text": [
      "[youtube] Extracting URL: https://www.youtube.com/watch?v=UDBv3ZgJW3w&ab_channel=ElPlanetaFinanciero-KayserPravia\n",
      "[youtube] UDBv3ZgJW3w: Downloading webpage\n",
      "[youtube] UDBv3ZgJW3w: Downloading ios player API JSON\n",
      "[youtube] UDBv3ZgJW3w: Downloading mweb player API JSON\n",
      "[youtube] UDBv3ZgJW3w: Downloading player aa3fc80b\n"
     ]
    },
    {
     "name": "stderr",
     "output_type": "stream",
     "text": [
      "WARNING: [youtube] Falling back to generic n function search\n",
      "         player = https://www.youtube.com/s/player/aa3fc80b/player_ias.vflset/en_US/base.js\n",
      "WARNING: [youtube] UDBv3ZgJW3w: nsig extraction failed: Some formats may be missing\n",
      "         n = SWF209USj9ztag2qKehDDE ; player = https://www.youtube.com/s/player/aa3fc80b/player_ias.vflset/en_US/base.js\n",
      "WARNING: [youtube] Falling back to generic n function search\n",
      "         player = https://www.youtube.com/s/player/aa3fc80b/player_ias.vflset/en_US/base.js\n",
      "WARNING: [youtube] UDBv3ZgJW3w: nsig extraction failed: Some formats may be missing\n",
      "         n = RFPivc8-bSBelymOXpw1_v ; player = https://www.youtube.com/s/player/aa3fc80b/player_ias.vflset/en_US/base.js\n"
     ]
    },
    {
     "name": "stdout",
     "output_type": "stream",
     "text": [
      "[youtube] UDBv3ZgJW3w: Downloading m3u8 information\n"
     ]
    },
    {
     "name": "stderr",
     "output_type": "stream",
     "text": [
      "Deprecated Feature: Support for Python version 3.8 has been deprecated. Please update to Python 3.9 or above\n"
     ]
    },
    {
     "name": "stdout",
     "output_type": "stream",
     "text": [
      "[youtube] Extracting URL: https://www.youtube.com/watch?v=8Yb7jZqzXyg&ab_channel=FXEvolution\n",
      "[youtube] 8Yb7jZqzXyg: Downloading webpage\n",
      "[youtube] 8Yb7jZqzXyg: Downloading ios player API JSON\n",
      "[youtube] 8Yb7jZqzXyg: Downloading mweb player API JSON\n",
      "[youtube] 8Yb7jZqzXyg: Downloading player 14cfd4c0\n"
     ]
    },
    {
     "name": "stderr",
     "output_type": "stream",
     "text": [
      "WARNING: [youtube] Falling back to generic n function search\n",
      "         player = https://www.youtube.com/s/player/14cfd4c0/player_ias.vflset/en_US/base.js\n",
      "WARNING: [youtube] 8Yb7jZqzXyg: nsig extraction failed: Some formats may be missing\n",
      "         n = Ex1x54TjyP_eGLn3J ; player = https://www.youtube.com/s/player/14cfd4c0/player_ias.vflset/en_US/base.js\n",
      "WARNING: [youtube] Falling back to generic n function search\n",
      "         player = https://www.youtube.com/s/player/14cfd4c0/player_ias.vflset/en_US/base.js\n",
      "WARNING: [youtube] 8Yb7jZqzXyg: nsig extraction failed: Some formats may be missing\n",
      "         n = PwUWC0Un9MJS1v5yp ; player = https://www.youtube.com/s/player/14cfd4c0/player_ias.vflset/en_US/base.js\n"
     ]
    },
    {
     "name": "stdout",
     "output_type": "stream",
     "text": [
      "[youtube] 8Yb7jZqzXyg: Downloading m3u8 information\n"
     ]
    },
    {
     "name": "stderr",
     "output_type": "stream",
     "text": [
      "Deprecated Feature: Support for Python version 3.8 has been deprecated. Please update to Python 3.9 or above\n"
     ]
    },
    {
     "name": "stdout",
     "output_type": "stream",
     "text": [
      "[youtube] Extracting URL: https://www.youtube.com/watch?v=li2WGHEA9PU&ab_channel=OneOption\n",
      "[youtube] li2WGHEA9PU: Downloading webpage\n",
      "[youtube] li2WGHEA9PU: Downloading ios player API JSON\n",
      "[youtube] li2WGHEA9PU: Downloading mweb player API JSON\n",
      "[youtube] li2WGHEA9PU: Downloading player aa3fc80b\n"
     ]
    },
    {
     "name": "stderr",
     "output_type": "stream",
     "text": [
      "WARNING: [youtube] Falling back to generic n function search\n",
      "         player = https://www.youtube.com/s/player/aa3fc80b/player_ias.vflset/en_US/base.js\n",
      "WARNING: [youtube] li2WGHEA9PU: nsig extraction failed: Some formats may be missing\n",
      "         n = Xn7FOTygbXPDDvRFmmpFog ; player = https://www.youtube.com/s/player/aa3fc80b/player_ias.vflset/en_US/base.js\n",
      "WARNING: [youtube] Falling back to generic n function search\n",
      "         player = https://www.youtube.com/s/player/aa3fc80b/player_ias.vflset/en_US/base.js\n",
      "WARNING: [youtube] li2WGHEA9PU: nsig extraction failed: Some formats may be missing\n",
      "         n = k8MIsNr3U5xXXRE-qgghlM ; player = https://www.youtube.com/s/player/aa3fc80b/player_ias.vflset/en_US/base.js\n"
     ]
    },
    {
     "name": "stdout",
     "output_type": "stream",
     "text": [
      "[youtube] li2WGHEA9PU: Downloading m3u8 information\n"
     ]
    },
    {
     "name": "stderr",
     "output_type": "stream",
     "text": [
      "Deprecated Feature: Support for Python version 3.8 has been deprecated. Please update to Python 3.9 or above\n"
     ]
    },
    {
     "name": "stdout",
     "output_type": "stream",
     "text": [
      "[youtube] Extracting URL: https://www.youtube.com/watch?v=EUiXhfxqj4s&ab_channel=DavidLin\n",
      "[youtube] EUiXhfxqj4s: Downloading webpage\n",
      "[youtube] EUiXhfxqj4s: Downloading ios player API JSON\n",
      "[youtube] EUiXhfxqj4s: Downloading mweb player API JSON\n",
      "[youtube] EUiXhfxqj4s: Downloading player 14cfd4c0\n"
     ]
    },
    {
     "name": "stderr",
     "output_type": "stream",
     "text": [
      "WARNING: [youtube] Falling back to generic n function search\n",
      "         player = https://www.youtube.com/s/player/14cfd4c0/player_ias.vflset/en_US/base.js\n",
      "WARNING: [youtube] EUiXhfxqj4s: nsig extraction failed: Some formats may be missing\n",
      "         n = uPmV_kNPcFKNhykmU ; player = https://www.youtube.com/s/player/14cfd4c0/player_ias.vflset/en_US/base.js\n",
      "WARNING: [youtube] Falling back to generic n function search\n",
      "         player = https://www.youtube.com/s/player/14cfd4c0/player_ias.vflset/en_US/base.js\n",
      "WARNING: [youtube] EUiXhfxqj4s: nsig extraction failed: Some formats may be missing\n",
      "         n = ROJn54j2OL5h_q1Kw ; player = https://www.youtube.com/s/player/14cfd4c0/player_ias.vflset/en_US/base.js\n"
     ]
    },
    {
     "name": "stdout",
     "output_type": "stream",
     "text": [
      "[youtube] EUiXhfxqj4s: Downloading m3u8 information\n",
      "[info] Testing format 616\n"
     ]
    },
    {
     "name": "stderr",
     "output_type": "stream",
     "text": [
      "Deprecated Feature: Support for Python version 3.8 has been deprecated. Please update to Python 3.9 or above\n"
     ]
    },
    {
     "name": "stdout",
     "output_type": "stream",
     "text": [
      "[youtube] Extracting URL: https://www.youtube.com/watch?v=1WaQN7TPHjI&ab_channel=MarketBeat\n",
      "[youtube] 1WaQN7TPHjI: Downloading webpage\n",
      "[youtube] 1WaQN7TPHjI: Downloading ios player API JSON\n",
      "[youtube] 1WaQN7TPHjI: Downloading mweb player API JSON\n",
      "[youtube] 1WaQN7TPHjI: Downloading player aa3fc80b\n"
     ]
    },
    {
     "name": "stderr",
     "output_type": "stream",
     "text": [
      "WARNING: [youtube] Falling back to generic n function search\n",
      "         player = https://www.youtube.com/s/player/aa3fc80b/player_ias.vflset/en_US/base.js\n",
      "WARNING: [youtube] 1WaQN7TPHjI: nsig extraction failed: Some formats may be missing\n",
      "         n = qPUWXyFIXspCJ2VdA2LJB4 ; player = https://www.youtube.com/s/player/aa3fc80b/player_ias.vflset/en_US/base.js\n",
      "WARNING: [youtube] Falling back to generic n function search\n",
      "         player = https://www.youtube.com/s/player/aa3fc80b/player_ias.vflset/en_US/base.js\n",
      "WARNING: [youtube] 1WaQN7TPHjI: nsig extraction failed: Some formats may be missing\n",
      "         n = R7fPBB7swdxRr9vOx-J4Hz ; player = https://www.youtube.com/s/player/aa3fc80b/player_ias.vflset/en_US/base.js\n"
     ]
    },
    {
     "name": "stdout",
     "output_type": "stream",
     "text": [
      "[youtube] 1WaQN7TPHjI: Downloading m3u8 information\n"
     ]
    },
    {
     "name": "stderr",
     "output_type": "stream",
     "text": [
      "Deprecated Feature: Support for Python version 3.8 has been deprecated. Please update to Python 3.9 or above\n"
     ]
    },
    {
     "name": "stdout",
     "output_type": "stream",
     "text": [
      "[youtube] Extracting URL: https://www.youtube.com/watch?v=EM-6krRkqU8&ab_channel=Let%27sTalkMoney%21withJosephHogue%2CCFA\n",
      "[youtube] EM-6krRkqU8: Downloading webpage\n",
      "[youtube] EM-6krRkqU8: Downloading ios player API JSON\n",
      "[youtube] EM-6krRkqU8: Downloading mweb player API JSON\n",
      "[youtube] EM-6krRkqU8: Downloading player aa3fc80b\n"
     ]
    },
    {
     "name": "stderr",
     "output_type": "stream",
     "text": [
      "WARNING: [youtube] Falling back to generic n function search\n",
      "         player = https://www.youtube.com/s/player/aa3fc80b/player_ias.vflset/en_US/base.js\n",
      "WARNING: [youtube] EM-6krRkqU8: nsig extraction failed: Some formats may be missing\n",
      "         n = -tH1iaWhavSFAcNIcyOHBN ; player = https://www.youtube.com/s/player/aa3fc80b/player_ias.vflset/en_US/base.js\n",
      "WARNING: [youtube] Falling back to generic n function search\n",
      "         player = https://www.youtube.com/s/player/aa3fc80b/player_ias.vflset/en_US/base.js\n",
      "WARNING: [youtube] EM-6krRkqU8: nsig extraction failed: Some formats may be missing\n",
      "         n = dyv7ZZXe8QgWYytUL-m9sQ ; player = https://www.youtube.com/s/player/aa3fc80b/player_ias.vflset/en_US/base.js\n"
     ]
    },
    {
     "name": "stdout",
     "output_type": "stream",
     "text": [
      "[youtube] EM-6krRkqU8: Downloading m3u8 information\n",
      "[info] Testing format 616\n"
     ]
    },
    {
     "name": "stderr",
     "output_type": "stream",
     "text": [
      "Deprecated Feature: Support for Python version 3.8 has been deprecated. Please update to Python 3.9 or above\n"
     ]
    },
    {
     "name": "stdout",
     "output_type": "stream",
     "text": [
      "[youtube] Extracting URL: https://www.youtube.com/watch?v=5dbjMUKMY6g&ab_channel=HeresyFinancial\n",
      "[youtube] 5dbjMUKMY6g: Downloading webpage\n",
      "[youtube] 5dbjMUKMY6g: Downloading ios player API JSON\n",
      "[youtube] 5dbjMUKMY6g: Downloading mweb player API JSON\n",
      "[youtube] 5dbjMUKMY6g: Downloading player aa3fc80b\n"
     ]
    },
    {
     "name": "stderr",
     "output_type": "stream",
     "text": [
      "WARNING: [youtube] Falling back to generic n function search\n",
      "         player = https://www.youtube.com/s/player/aa3fc80b/player_ias.vflset/en_US/base.js\n",
      "WARNING: [youtube] 5dbjMUKMY6g: nsig extraction failed: Some formats may be missing\n",
      "         n = AmTrlbknbCQLd7d5vy3jdM ; player = https://www.youtube.com/s/player/aa3fc80b/player_ias.vflset/en_US/base.js\n",
      "WARNING: [youtube] Falling back to generic n function search\n",
      "         player = https://www.youtube.com/s/player/aa3fc80b/player_ias.vflset/en_US/base.js\n",
      "WARNING: [youtube] 5dbjMUKMY6g: nsig extraction failed: Some formats may be missing\n",
      "         n = 5WNS625jWI2wpTKNC7RrFf ; player = https://www.youtube.com/s/player/aa3fc80b/player_ias.vflset/en_US/base.js\n"
     ]
    },
    {
     "name": "stdout",
     "output_type": "stream",
     "text": [
      "[youtube] 5dbjMUKMY6g: Downloading m3u8 information\n"
     ]
    },
    {
     "name": "stderr",
     "output_type": "stream",
     "text": [
      "Deprecated Feature: Support for Python version 3.8 has been deprecated. Please update to Python 3.9 or above\n"
     ]
    },
    {
     "name": "stdout",
     "output_type": "stream",
     "text": [
      "[youtube] Extracting URL: https://www.youtube.com/watch?v=vn4T-hN3tXE&ab_channel=MinorityMindset\n",
      "[youtube] vn4T-hN3tXE: Downloading webpage\n",
      "[youtube] vn4T-hN3tXE: Downloading ios player API JSON\n",
      "[youtube] vn4T-hN3tXE: Downloading mweb player API JSON\n",
      "[youtube] vn4T-hN3tXE: Downloading player aa3fc80b\n"
     ]
    },
    {
     "name": "stderr",
     "output_type": "stream",
     "text": [
      "WARNING: [youtube] Falling back to generic n function search\n",
      "         player = https://www.youtube.com/s/player/aa3fc80b/player_ias.vflset/en_US/base.js\n",
      "WARNING: [youtube] vn4T-hN3tXE: nsig extraction failed: Some formats may be missing\n",
      "         n = wd_YI94SNU7aeltziCKsTf ; player = https://www.youtube.com/s/player/aa3fc80b/player_ias.vflset/en_US/base.js\n",
      "WARNING: [youtube] Falling back to generic n function search\n",
      "         player = https://www.youtube.com/s/player/aa3fc80b/player_ias.vflset/en_US/base.js\n",
      "WARNING: [youtube] vn4T-hN3tXE: nsig extraction failed: Some formats may be missing\n",
      "         n = YB97SS249GCYbzPMsEm9T8 ; player = https://www.youtube.com/s/player/aa3fc80b/player_ias.vflset/en_US/base.js\n"
     ]
    },
    {
     "name": "stdout",
     "output_type": "stream",
     "text": [
      "[youtube] vn4T-hN3tXE: Downloading m3u8 information\n"
     ]
    },
    {
     "name": "stderr",
     "output_type": "stream",
     "text": [
      "Deprecated Feature: Support for Python version 3.8 has been deprecated. Please update to Python 3.9 or above\n"
     ]
    },
    {
     "name": "stdout",
     "output_type": "stream",
     "text": [
      "[youtube] Extracting URL: https://www.youtube.com/watch?v=72eGXwkw1O0&ab_channel=ITMTRADING%2CINC.\n",
      "[youtube] 72eGXwkw1O0: Downloading webpage\n",
      "[youtube] 72eGXwkw1O0: Downloading ios player API JSON\n",
      "[youtube] 72eGXwkw1O0: Downloading mweb player API JSON\n",
      "[youtube] 72eGXwkw1O0: Downloading player aa3fc80b\n"
     ]
    },
    {
     "name": "stderr",
     "output_type": "stream",
     "text": [
      "WARNING: [youtube] Falling back to generic n function search\n",
      "         player = https://www.youtube.com/s/player/aa3fc80b/player_ias.vflset/en_US/base.js\n",
      "WARNING: [youtube] 72eGXwkw1O0: nsig extraction failed: Some formats may be missing\n",
      "         n = sI9C6uehPxIj8qB7FJ891E ; player = https://www.youtube.com/s/player/aa3fc80b/player_ias.vflset/en_US/base.js\n",
      "WARNING: [youtube] Falling back to generic n function search\n",
      "         player = https://www.youtube.com/s/player/aa3fc80b/player_ias.vflset/en_US/base.js\n",
      "WARNING: [youtube] 72eGXwkw1O0: nsig extraction failed: Some formats may be missing\n",
      "         n = relSi47mwW9AEVRWoX9Xox ; player = https://www.youtube.com/s/player/aa3fc80b/player_ias.vflset/en_US/base.js\n"
     ]
    },
    {
     "name": "stdout",
     "output_type": "stream",
     "text": [
      "[youtube] 72eGXwkw1O0: Downloading m3u8 information\n",
      "[info] Testing format 616\n"
     ]
    },
    {
     "name": "stderr",
     "output_type": "stream",
     "text": [
      "Deprecated Feature: Support for Python version 3.8 has been deprecated. Please update to Python 3.9 or above\n"
     ]
    },
    {
     "name": "stdout",
     "output_type": "stream",
     "text": [
      "[youtube] Extracting URL: https://www.youtube.com/watch?v=l0Dp2ad2Y7k&ab_channel=EurodollarUniversity\n",
      "[youtube] l0Dp2ad2Y7k: Downloading webpage\n",
      "[youtube] l0Dp2ad2Y7k: Downloading ios player API JSON\n",
      "[youtube] l0Dp2ad2Y7k: Downloading mweb player API JSON\n",
      "[youtube] l0Dp2ad2Y7k: Downloading player aa3fc80b\n"
     ]
    },
    {
     "name": "stderr",
     "output_type": "stream",
     "text": [
      "WARNING: [youtube] Falling back to generic n function search\n",
      "         player = https://www.youtube.com/s/player/aa3fc80b/player_ias.vflset/en_US/base.js\n",
      "WARNING: [youtube] l0Dp2ad2Y7k: nsig extraction failed: Some formats may be missing\n",
      "         n = -tWLPRaHZYKDFZHhorbHV2 ; player = https://www.youtube.com/s/player/aa3fc80b/player_ias.vflset/en_US/base.js\n",
      "WARNING: [youtube] Falling back to generic n function search\n",
      "         player = https://www.youtube.com/s/player/aa3fc80b/player_ias.vflset/en_US/base.js\n",
      "WARNING: [youtube] l0Dp2ad2Y7k: nsig extraction failed: Some formats may be missing\n",
      "         n = F5Jmo5gp371qO34jUVq210 ; player = https://www.youtube.com/s/player/aa3fc80b/player_ias.vflset/en_US/base.js\n"
     ]
    },
    {
     "name": "stdout",
     "output_type": "stream",
     "text": [
      "[youtube] l0Dp2ad2Y7k: Downloading m3u8 information\n"
     ]
    },
    {
     "name": "stderr",
     "output_type": "stream",
     "text": [
      "Deprecated Feature: Support for Python version 3.8 has been deprecated. Please update to Python 3.9 or above\n"
     ]
    },
    {
     "name": "stdout",
     "output_type": "stream",
     "text": [
      "[youtube] Extracting URL: https://www.youtube.com/watch?v=g1-a7ectpCo&ab_channel=EurodollarUniversity\n",
      "[youtube] g1-a7ectpCo: Downloading webpage\n",
      "[youtube] g1-a7ectpCo: Downloading ios player API JSON\n",
      "[youtube] g1-a7ectpCo: Downloading mweb player API JSON\n",
      "[youtube] g1-a7ectpCo: Downloading player aa3fc80b\n"
     ]
    },
    {
     "name": "stderr",
     "output_type": "stream",
     "text": [
      "WARNING: [youtube] Falling back to generic n function search\n",
      "         player = https://www.youtube.com/s/player/aa3fc80b/player_ias.vflset/en_US/base.js\n",
      "WARNING: [youtube] g1-a7ectpCo: nsig extraction failed: Some formats may be missing\n",
      "         n = p484jyTUvm4Fn9vWct-G6J ; player = https://www.youtube.com/s/player/aa3fc80b/player_ias.vflset/en_US/base.js\n",
      "WARNING: [youtube] Falling back to generic n function search\n",
      "         player = https://www.youtube.com/s/player/aa3fc80b/player_ias.vflset/en_US/base.js\n",
      "WARNING: [youtube] g1-a7ectpCo: nsig extraction failed: Some formats may be missing\n",
      "         n = _sJg6jQ9QRrTuModKnhAl2 ; player = https://www.youtube.com/s/player/aa3fc80b/player_ias.vflset/en_US/base.js\n"
     ]
    },
    {
     "name": "stdout",
     "output_type": "stream",
     "text": [
      "[youtube] g1-a7ectpCo: Downloading m3u8 information\n"
     ]
    },
    {
     "name": "stderr",
     "output_type": "stream",
     "text": [
      "Deprecated Feature: Support for Python version 3.8 has been deprecated. Please update to Python 3.9 or above\n"
     ]
    },
    {
     "name": "stdout",
     "output_type": "stream",
     "text": [
      "[youtube] Extracting URL: https://www.youtube.com/watch?v=vUEpTd2EeQA&ab_channel=AdamKhoo\n",
      "[youtube] vUEpTd2EeQA: Downloading webpage\n",
      "[youtube] vUEpTd2EeQA: Downloading ios player API JSON\n",
      "[youtube] vUEpTd2EeQA: Downloading mweb player API JSON\n",
      "[youtube] vUEpTd2EeQA: Downloading player aa3fc80b\n"
     ]
    },
    {
     "name": "stderr",
     "output_type": "stream",
     "text": [
      "WARNING: [youtube] Falling back to generic n function search\n",
      "         player = https://www.youtube.com/s/player/aa3fc80b/player_ias.vflset/en_US/base.js\n",
      "WARNING: [youtube] vUEpTd2EeQA: nsig extraction failed: Some formats may be missing\n",
      "         n = wpz6labk9qpgfd1jJRCOy8 ; player = https://www.youtube.com/s/player/aa3fc80b/player_ias.vflset/en_US/base.js\n",
      "WARNING: [youtube] Falling back to generic n function search\n",
      "         player = https://www.youtube.com/s/player/aa3fc80b/player_ias.vflset/en_US/base.js\n",
      "WARNING: [youtube] vUEpTd2EeQA: nsig extraction failed: Some formats may be missing\n",
      "         n = A21TW366Ql7t3NUEQarcEn ; player = https://www.youtube.com/s/player/aa3fc80b/player_ias.vflset/en_US/base.js\n"
     ]
    },
    {
     "name": "stdout",
     "output_type": "stream",
     "text": [
      "[youtube] vUEpTd2EeQA: Downloading m3u8 information\n"
     ]
    },
    {
     "name": "stderr",
     "output_type": "stream",
     "text": [
      "Deprecated Feature: Support for Python version 3.8 has been deprecated. Please update to Python 3.9 or above\n"
     ]
    },
    {
     "name": "stdout",
     "output_type": "stream",
     "text": [
      "[youtube] Extracting URL: https://www.youtube.com/watch?v=hIyQL98mvh0&ab_channel=RichardJMurphy\n",
      "[youtube] hIyQL98mvh0: Downloading webpage\n",
      "[youtube] hIyQL98mvh0: Downloading ios player API JSON\n",
      "[youtube] hIyQL98mvh0: Downloading mweb player API JSON\n",
      "[youtube] hIyQL98mvh0: Downloading player aa3fc80b\n"
     ]
    },
    {
     "name": "stderr",
     "output_type": "stream",
     "text": [
      "WARNING: [youtube] Falling back to generic n function search\n",
      "         player = https://www.youtube.com/s/player/aa3fc80b/player_ias.vflset/en_US/base.js\n",
      "WARNING: [youtube] hIyQL98mvh0: nsig extraction failed: Some formats may be missing\n",
      "         n = EGDwB0qrF6hPVbkqNd4Kr4 ; player = https://www.youtube.com/s/player/aa3fc80b/player_ias.vflset/en_US/base.js\n",
      "WARNING: [youtube] Falling back to generic n function search\n",
      "         player = https://www.youtube.com/s/player/aa3fc80b/player_ias.vflset/en_US/base.js\n",
      "WARNING: [youtube] hIyQL98mvh0: nsig extraction failed: Some formats may be missing\n",
      "         n = JExVvD6ykbXpe4soEblB0Y ; player = https://www.youtube.com/s/player/aa3fc80b/player_ias.vflset/en_US/base.js\n"
     ]
    },
    {
     "name": "stdout",
     "output_type": "stream",
     "text": [
      "[youtube] hIyQL98mvh0: Downloading m3u8 information\n"
     ]
    },
    {
     "name": "stderr",
     "output_type": "stream",
     "text": [
      "Deprecated Feature: Support for Python version 3.8 has been deprecated. Please update to Python 3.9 or above\n"
     ]
    },
    {
     "name": "stdout",
     "output_type": "stream",
     "text": [
      "[youtube] Extracting URL: https://www.youtube.com/watch?v=lnEJJUtAr1A&ab_channel=ClearValueTax\n",
      "[youtube] lnEJJUtAr1A: Downloading webpage\n",
      "[youtube] lnEJJUtAr1A: Downloading ios player API JSON\n",
      "[youtube] lnEJJUtAr1A: Downloading mweb player API JSON\n",
      "[youtube] lnEJJUtAr1A: Downloading player aa3fc80b\n"
     ]
    },
    {
     "name": "stderr",
     "output_type": "stream",
     "text": [
      "WARNING: [youtube] Falling back to generic n function search\n",
      "         player = https://www.youtube.com/s/player/aa3fc80b/player_ias.vflset/en_US/base.js\n",
      "WARNING: [youtube] lnEJJUtAr1A: nsig extraction failed: Some formats may be missing\n",
      "         n = bAUvmOpjV5wZfWytjhKs1V ; player = https://www.youtube.com/s/player/aa3fc80b/player_ias.vflset/en_US/base.js\n",
      "WARNING: [youtube] Falling back to generic n function search\n",
      "         player = https://www.youtube.com/s/player/aa3fc80b/player_ias.vflset/en_US/base.js\n",
      "WARNING: [youtube] lnEJJUtAr1A: nsig extraction failed: Some formats may be missing\n",
      "         n = Ew2Jg0807wwb4KOeIy-YL2 ; player = https://www.youtube.com/s/player/aa3fc80b/player_ias.vflset/en_US/base.js\n"
     ]
    },
    {
     "name": "stdout",
     "output_type": "stream",
     "text": [
      "[youtube] lnEJJUtAr1A: Downloading m3u8 information\n",
      "[info] Testing format 616\n"
     ]
    },
    {
     "name": "stderr",
     "output_type": "stream",
     "text": [
      "Deprecated Feature: Support for Python version 3.8 has been deprecated. Please update to Python 3.9 or above\n"
     ]
    },
    {
     "name": "stdout",
     "output_type": "stream",
     "text": [
      "[youtube] Extracting URL: https://www.youtube.com/watch?v=KID04bsjs4w&ab_channel=LibreEmprendedor\n",
      "[youtube] KID04bsjs4w: Downloading webpage\n",
      "[youtube] KID04bsjs4w: Downloading ios player API JSON\n",
      "[youtube] KID04bsjs4w: Downloading mweb player API JSON\n",
      "[youtube] KID04bsjs4w: Downloading player aa3fc80b\n"
     ]
    },
    {
     "name": "stderr",
     "output_type": "stream",
     "text": [
      "WARNING: [youtube] Falling back to generic n function search\n",
      "         player = https://www.youtube.com/s/player/aa3fc80b/player_ias.vflset/en_US/base.js\n",
      "WARNING: [youtube] KID04bsjs4w: nsig extraction failed: Some formats may be missing\n",
      "         n = 9I-fje-rGFXdW3OlAjwkeO ; player = https://www.youtube.com/s/player/aa3fc80b/player_ias.vflset/en_US/base.js\n",
      "WARNING: [youtube] Falling back to generic n function search\n",
      "         player = https://www.youtube.com/s/player/aa3fc80b/player_ias.vflset/en_US/base.js\n",
      "WARNING: [youtube] KID04bsjs4w: nsig extraction failed: Some formats may be missing\n",
      "         n = GovOY8rF85YqZQRurqWqvY ; player = https://www.youtube.com/s/player/aa3fc80b/player_ias.vflset/en_US/base.js\n"
     ]
    },
    {
     "name": "stdout",
     "output_type": "stream",
     "text": [
      "[youtube] KID04bsjs4w: Downloading m3u8 information\n"
     ]
    },
    {
     "name": "stderr",
     "output_type": "stream",
     "text": [
      "Deprecated Feature: Support for Python version 3.8 has been deprecated. Please update to Python 3.9 or above\n"
     ]
    },
    {
     "name": "stdout",
     "output_type": "stream",
     "text": [
      "[youtube] Extracting URL: https://www.youtube.com/watch?v=pPyOUpDKwXs&ab_channel=SimpleFinanzas\n",
      "[youtube] pPyOUpDKwXs: Downloading webpage\n",
      "[youtube] pPyOUpDKwXs: Downloading ios player API JSON\n",
      "[youtube] pPyOUpDKwXs: Downloading mweb player API JSON\n",
      "[youtube] pPyOUpDKwXs: Downloading player aa3fc80b\n"
     ]
    },
    {
     "name": "stderr",
     "output_type": "stream",
     "text": [
      "WARNING: [youtube] Falling back to generic n function search\n",
      "         player = https://www.youtube.com/s/player/aa3fc80b/player_ias.vflset/en_US/base.js\n",
      "WARNING: [youtube] pPyOUpDKwXs: nsig extraction failed: Some formats may be missing\n",
      "         n = z6_OYijZSyYFrKjWRlZm0p ; player = https://www.youtube.com/s/player/aa3fc80b/player_ias.vflset/en_US/base.js\n",
      "WARNING: [youtube] Falling back to generic n function search\n",
      "         player = https://www.youtube.com/s/player/aa3fc80b/player_ias.vflset/en_US/base.js\n",
      "WARNING: [youtube] pPyOUpDKwXs: nsig extraction failed: Some formats may be missing\n",
      "         n = j_TFspaJjz8wrpqIFML7gc ; player = https://www.youtube.com/s/player/aa3fc80b/player_ias.vflset/en_US/base.js\n"
     ]
    },
    {
     "name": "stdout",
     "output_type": "stream",
     "text": [
      "[youtube] pPyOUpDKwXs: Downloading m3u8 information\n",
      "[info] Testing format 616\n"
     ]
    },
    {
     "name": "stderr",
     "output_type": "stream",
     "text": [
      "Deprecated Feature: Support for Python version 3.8 has been deprecated. Please update to Python 3.9 or above\n"
     ]
    },
    {
     "name": "stdout",
     "output_type": "stream",
     "text": [
      "[youtube] Extracting URL: https://www.youtube.com/watch?v=5yO4w03x0WA&ab_channel=Adri%C3%A1nS%C3%A1enz\n",
      "[youtube] 5yO4w03x0WA: Downloading webpage\n",
      "[youtube] 5yO4w03x0WA: Downloading ios player API JSON\n",
      "[youtube] 5yO4w03x0WA: Downloading mweb player API JSON\n",
      "[youtube] 5yO4w03x0WA: Downloading player aa3fc80b\n"
     ]
    },
    {
     "name": "stderr",
     "output_type": "stream",
     "text": [
      "WARNING: [youtube] Falling back to generic n function search\n",
      "         player = https://www.youtube.com/s/player/aa3fc80b/player_ias.vflset/en_US/base.js\n",
      "WARNING: [youtube] 5yO4w03x0WA: nsig extraction failed: Some formats may be missing\n",
      "         n = adEhUG7jGdmztjeqAHIiqY ; player = https://www.youtube.com/s/player/aa3fc80b/player_ias.vflset/en_US/base.js\n",
      "WARNING: [youtube] Falling back to generic n function search\n",
      "         player = https://www.youtube.com/s/player/aa3fc80b/player_ias.vflset/en_US/base.js\n",
      "WARNING: [youtube] 5yO4w03x0WA: nsig extraction failed: Some formats may be missing\n",
      "         n = E-NJKMpyqGDt-kqJIWFzZG ; player = https://www.youtube.com/s/player/aa3fc80b/player_ias.vflset/en_US/base.js\n"
     ]
    },
    {
     "name": "stdout",
     "output_type": "stream",
     "text": [
      "[youtube] 5yO4w03x0WA: Downloading m3u8 information\n"
     ]
    },
    {
     "name": "stderr",
     "output_type": "stream",
     "text": [
      "Deprecated Feature: Support for Python version 3.8 has been deprecated. Please update to Python 3.9 or above\n"
     ]
    },
    {
     "name": "stdout",
     "output_type": "stream",
     "text": [
      "[youtube] Extracting URL: https://www.youtube.com/watch?v=QjIED_WQmH0&t=31s&ab_channel=Invexis\n",
      "[youtube] QjIED_WQmH0: Downloading webpage\n",
      "[youtube] QjIED_WQmH0: Downloading ios player API JSON\n",
      "[youtube] QjIED_WQmH0: Downloading mweb player API JSON\n",
      "[youtube] QjIED_WQmH0: Downloading player aa3fc80b\n"
     ]
    },
    {
     "name": "stderr",
     "output_type": "stream",
     "text": [
      "WARNING: [youtube] Falling back to generic n function search\n",
      "         player = https://www.youtube.com/s/player/aa3fc80b/player_ias.vflset/en_US/base.js\n",
      "WARNING: [youtube] QjIED_WQmH0: nsig extraction failed: Some formats may be missing\n",
      "         n = _xdz3kDnDw3SUK1p9NCmVq ; player = https://www.youtube.com/s/player/aa3fc80b/player_ias.vflset/en_US/base.js\n",
      "WARNING: [youtube] Falling back to generic n function search\n",
      "         player = https://www.youtube.com/s/player/aa3fc80b/player_ias.vflset/en_US/base.js\n",
      "WARNING: [youtube] QjIED_WQmH0: nsig extraction failed: Some formats may be missing\n",
      "         n = 5Vt3m_vis57Qdy7OvUv5Qp ; player = https://www.youtube.com/s/player/aa3fc80b/player_ias.vflset/en_US/base.js\n"
     ]
    },
    {
     "name": "stdout",
     "output_type": "stream",
     "text": [
      "[youtube] QjIED_WQmH0: Downloading m3u8 information\n"
     ]
    },
    {
     "name": "stderr",
     "output_type": "stream",
     "text": [
      "Deprecated Feature: Support for Python version 3.8 has been deprecated. Please update to Python 3.9 or above\n"
     ]
    },
    {
     "name": "stdout",
     "output_type": "stream",
     "text": [
      "[youtube] Extracting URL: https://www.youtube.com/watch?v=31KQfLdG5Ss&ab_channel=BravosResearch\n",
      "[youtube] 31KQfLdG5Ss: Downloading webpage\n",
      "[youtube] 31KQfLdG5Ss: Downloading ios player API JSON\n",
      "[youtube] 31KQfLdG5Ss: Downloading mweb player API JSON\n",
      "[youtube] 31KQfLdG5Ss: Downloading player aa3fc80b\n"
     ]
    },
    {
     "name": "stderr",
     "output_type": "stream",
     "text": [
      "WARNING: [youtube] Falling back to generic n function search\n",
      "         player = https://www.youtube.com/s/player/aa3fc80b/player_ias.vflset/en_US/base.js\n",
      "WARNING: [youtube] 31KQfLdG5Ss: nsig extraction failed: Some formats may be missing\n",
      "         n = 96g1hKOhfDIsQ0IhjBeqZS ; player = https://www.youtube.com/s/player/aa3fc80b/player_ias.vflset/en_US/base.js\n",
      "WARNING: [youtube] Falling back to generic n function search\n",
      "         player = https://www.youtube.com/s/player/aa3fc80b/player_ias.vflset/en_US/base.js\n",
      "WARNING: [youtube] 31KQfLdG5Ss: nsig extraction failed: Some formats may be missing\n",
      "         n = rP7a8z_0jnlYtlbntuLQ-G ; player = https://www.youtube.com/s/player/aa3fc80b/player_ias.vflset/en_US/base.js\n"
     ]
    },
    {
     "name": "stdout",
     "output_type": "stream",
     "text": [
      "[youtube] 31KQfLdG5Ss: Downloading m3u8 information\n"
     ]
    },
    {
     "name": "stderr",
     "output_type": "stream",
     "text": [
      "Deprecated Feature: Support for Python version 3.8 has been deprecated. Please update to Python 3.9 or above\n"
     ]
    },
    {
     "name": "stdout",
     "output_type": "stream",
     "text": [
      "[youtube] Extracting URL: https://www.youtube.com/watch?v=vqF9T1uO3wA&ab_channel=DiegoPuertas\n",
      "[youtube] vqF9T1uO3wA: Downloading webpage\n",
      "[youtube] vqF9T1uO3wA: Downloading ios player API JSON\n",
      "[youtube] vqF9T1uO3wA: Downloading mweb player API JSON\n",
      "[youtube] vqF9T1uO3wA: Downloading player aa3fc80b\n"
     ]
    },
    {
     "name": "stderr",
     "output_type": "stream",
     "text": [
      "WARNING: [youtube] Falling back to generic n function search\n",
      "         player = https://www.youtube.com/s/player/aa3fc80b/player_ias.vflset/en_US/base.js\n",
      "WARNING: [youtube] vqF9T1uO3wA: nsig extraction failed: Some formats may be missing\n",
      "         n = n7YiaPR3UAytt-A2kD80HL ; player = https://www.youtube.com/s/player/aa3fc80b/player_ias.vflset/en_US/base.js\n",
      "WARNING: [youtube] Falling back to generic n function search\n",
      "         player = https://www.youtube.com/s/player/aa3fc80b/player_ias.vflset/en_US/base.js\n",
      "WARNING: [youtube] vqF9T1uO3wA: nsig extraction failed: Some formats may be missing\n",
      "         n = 1zXNbiDLtwVepqc7pVb62P ; player = https://www.youtube.com/s/player/aa3fc80b/player_ias.vflset/en_US/base.js\n"
     ]
    },
    {
     "name": "stdout",
     "output_type": "stream",
     "text": [
      "[youtube] vqF9T1uO3wA: Downloading m3u8 information\n",
      "[info] Testing format 616\n"
     ]
    },
    {
     "name": "stderr",
     "output_type": "stream",
     "text": [
      "Deprecated Feature: Support for Python version 3.8 has been deprecated. Please update to Python 3.9 or above\n"
     ]
    },
    {
     "name": "stdout",
     "output_type": "stream",
     "text": [
      "[youtube] Extracting URL: https://www.youtube.com/watch?v=Pui6KCTrtwg&ab_channel=LaBolsaConFern\n",
      "[youtube] Pui6KCTrtwg: Downloading webpage\n",
      "[youtube] Pui6KCTrtwg: Downloading ios player API JSON\n",
      "[youtube] Pui6KCTrtwg: Downloading mweb player API JSON\n",
      "[youtube] Pui6KCTrtwg: Downloading player aa3fc80b\n"
     ]
    },
    {
     "name": "stderr",
     "output_type": "stream",
     "text": [
      "WARNING: [youtube] Falling back to generic n function search\n",
      "         player = https://www.youtube.com/s/player/aa3fc80b/player_ias.vflset/en_US/base.js\n",
      "WARNING: [youtube] Pui6KCTrtwg: nsig extraction failed: Some formats may be missing\n",
      "         n = aJHzw2GXkMIGbIU1QARjsC ; player = https://www.youtube.com/s/player/aa3fc80b/player_ias.vflset/en_US/base.js\n",
      "WARNING: [youtube] Falling back to generic n function search\n",
      "         player = https://www.youtube.com/s/player/aa3fc80b/player_ias.vflset/en_US/base.js\n",
      "WARNING: [youtube] Pui6KCTrtwg: nsig extraction failed: Some formats may be missing\n",
      "         n = L63IV66AOuTfVgyH2GK6Qk ; player = https://www.youtube.com/s/player/aa3fc80b/player_ias.vflset/en_US/base.js\n"
     ]
    },
    {
     "name": "stdout",
     "output_type": "stream",
     "text": [
      "[youtube] Pui6KCTrtwg: Downloading m3u8 information\n",
      "[info] Testing format 616\n"
     ]
    },
    {
     "name": "stderr",
     "output_type": "stream",
     "text": [
      "Deprecated Feature: Support for Python version 3.8 has been deprecated. Please update to Python 3.9 or above\n"
     ]
    },
    {
     "name": "stdout",
     "output_type": "stream",
     "text": [
      "[youtube] Extracting URL: https://www.youtube.com/watch?v=m-hBWtxOse4&ab_channel=VictorHInvesting\n",
      "[youtube] m-hBWtxOse4: Downloading webpage\n",
      "[youtube] m-hBWtxOse4: Downloading ios player API JSON\n",
      "[youtube] m-hBWtxOse4: Downloading mweb player API JSON\n",
      "[youtube] m-hBWtxOse4: Downloading player aa3fc80b\n"
     ]
    },
    {
     "name": "stderr",
     "output_type": "stream",
     "text": [
      "WARNING: [youtube] Falling back to generic n function search\n",
      "         player = https://www.youtube.com/s/player/aa3fc80b/player_ias.vflset/en_US/base.js\n",
      "WARNING: [youtube] m-hBWtxOse4: nsig extraction failed: Some formats may be missing\n",
      "         n = LblJj1hHx1UD3Xj18oo3WY ; player = https://www.youtube.com/s/player/aa3fc80b/player_ias.vflset/en_US/base.js\n",
      "WARNING: [youtube] Falling back to generic n function search\n",
      "         player = https://www.youtube.com/s/player/aa3fc80b/player_ias.vflset/en_US/base.js\n",
      "WARNING: [youtube] m-hBWtxOse4: nsig extraction failed: Some formats may be missing\n",
      "         n = BpvRwZ3tLwkNxMyAdXzuzn ; player = https://www.youtube.com/s/player/aa3fc80b/player_ias.vflset/en_US/base.js\n"
     ]
    },
    {
     "name": "stdout",
     "output_type": "stream",
     "text": [
      "[youtube] m-hBWtxOse4: Downloading m3u8 information\n"
     ]
    },
    {
     "name": "stderr",
     "output_type": "stream",
     "text": [
      "Deprecated Feature: Support for Python version 3.8 has been deprecated. Please update to Python 3.9 or above\n"
     ]
    },
    {
     "name": "stdout",
     "output_type": "stream",
     "text": [
      "[youtube] Extracting URL: https://www.youtube.com/watch?v=UYrHrAGWHTU&ab_channel=VictorHInvesting\n",
      "[youtube] UYrHrAGWHTU: Downloading webpage\n",
      "[youtube] UYrHrAGWHTU: Downloading ios player API JSON\n",
      "[youtube] UYrHrAGWHTU: Downloading mweb player API JSON\n",
      "[youtube] UYrHrAGWHTU: Downloading player 14cfd4c0\n"
     ]
    },
    {
     "name": "stderr",
     "output_type": "stream",
     "text": [
      "WARNING: [youtube] Falling back to generic n function search\n",
      "         player = https://www.youtube.com/s/player/14cfd4c0/player_ias.vflset/en_US/base.js\n",
      "WARNING: [youtube] UYrHrAGWHTU: nsig extraction failed: Some formats may be missing\n",
      "         n = Ln0wJk6VD5kZbIo5l ; player = https://www.youtube.com/s/player/14cfd4c0/player_ias.vflset/en_US/base.js\n",
      "WARNING: [youtube] Falling back to generic n function search\n",
      "         player = https://www.youtube.com/s/player/14cfd4c0/player_ias.vflset/en_US/base.js\n",
      "WARNING: [youtube] UYrHrAGWHTU: nsig extraction failed: Some formats may be missing\n",
      "         n = qQU5701U_xKm2z5uW ; player = https://www.youtube.com/s/player/14cfd4c0/player_ias.vflset/en_US/base.js\n"
     ]
    },
    {
     "name": "stdout",
     "output_type": "stream",
     "text": [
      "[youtube] UYrHrAGWHTU: Downloading m3u8 information\n"
     ]
    },
    {
     "name": "stderr",
     "output_type": "stream",
     "text": [
      "Deprecated Feature: Support for Python version 3.8 has been deprecated. Please update to Python 3.9 or above\n"
     ]
    },
    {
     "name": "stdout",
     "output_type": "stream",
     "text": [
      "[youtube] Extracting URL: https://www.youtube.com/watch?v=4tf5ZulYozE&ab_channel=TwoStupidGuysTradeStocks\n",
      "[youtube] 4tf5ZulYozE: Downloading webpage\n",
      "[youtube] 4tf5ZulYozE: Downloading ios player API JSON\n",
      "[youtube] 4tf5ZulYozE: Downloading mweb player API JSON\n",
      "[youtube] 4tf5ZulYozE: Downloading player aa3fc80b\n"
     ]
    },
    {
     "name": "stderr",
     "output_type": "stream",
     "text": [
      "WARNING: [youtube] Falling back to generic n function search\n",
      "         player = https://www.youtube.com/s/player/aa3fc80b/player_ias.vflset/en_US/base.js\n",
      "WARNING: [youtube] 4tf5ZulYozE: nsig extraction failed: Some formats may be missing\n",
      "         n = Nm2eJOcY0Uj659bLYVALQr ; player = https://www.youtube.com/s/player/aa3fc80b/player_ias.vflset/en_US/base.js\n",
      "WARNING: [youtube] Falling back to generic n function search\n",
      "         player = https://www.youtube.com/s/player/aa3fc80b/player_ias.vflset/en_US/base.js\n",
      "WARNING: [youtube] 4tf5ZulYozE: nsig extraction failed: Some formats may be missing\n",
      "         n = ZNRBYcdJ-qbhfgGCdBIPEo ; player = https://www.youtube.com/s/player/aa3fc80b/player_ias.vflset/en_US/base.js\n"
     ]
    },
    {
     "name": "stdout",
     "output_type": "stream",
     "text": [
      "[youtube] 4tf5ZulYozE: Downloading m3u8 information\n"
     ]
    },
    {
     "name": "stderr",
     "output_type": "stream",
     "text": [
      "Deprecated Feature: Support for Python version 3.8 has been deprecated. Please update to Python 3.9 or above\n"
     ]
    },
    {
     "name": "stdout",
     "output_type": "stream",
     "text": [
      "[youtube] Extracting URL: https://www.youtube.com/watch?v=aVs6HuPHPls&ab_channel=SkoStocks\n",
      "[youtube] aVs6HuPHPls: Downloading webpage\n",
      "[youtube] aVs6HuPHPls: Downloading ios player API JSON\n",
      "[youtube] aVs6HuPHPls: Downloading mweb player API JSON\n",
      "[youtube] aVs6HuPHPls: Downloading player aa3fc80b\n"
     ]
    },
    {
     "name": "stderr",
     "output_type": "stream",
     "text": [
      "WARNING: [youtube] Falling back to generic n function search\n",
      "         player = https://www.youtube.com/s/player/aa3fc80b/player_ias.vflset/en_US/base.js\n",
      "WARNING: [youtube] aVs6HuPHPls: nsig extraction failed: Some formats may be missing\n",
      "         n = ysKuw8YlGQQsi8KnedEkeq ; player = https://www.youtube.com/s/player/aa3fc80b/player_ias.vflset/en_US/base.js\n",
      "WARNING: [youtube] Falling back to generic n function search\n",
      "         player = https://www.youtube.com/s/player/aa3fc80b/player_ias.vflset/en_US/base.js\n",
      "WARNING: [youtube] aVs6HuPHPls: nsig extraction failed: Some formats may be missing\n",
      "         n = cgoWVeLGT5tMeWprMi-VmG ; player = https://www.youtube.com/s/player/aa3fc80b/player_ias.vflset/en_US/base.js\n"
     ]
    },
    {
     "name": "stdout",
     "output_type": "stream",
     "text": [
      "[youtube] aVs6HuPHPls: Downloading m3u8 information\n"
     ]
    }
   ],
   "source": [
    "df_yt.head()\n",
    "df_yt[\"Markdown\"] = df_yt[\"LINK\"].apply(lambda url: get_video_info_and_transcript(url))"
   ]
  },
  {
   "cell_type": "code",
   "execution_count": 31,
   "metadata": {},
   "outputs": [
    {
     "data": {
      "text/html": [
       "<div>\n",
       "<style scoped>\n",
       "    .dataframe tbody tr th:only-of-type {\n",
       "        vertical-align: middle;\n",
       "    }\n",
       "\n",
       "    .dataframe tbody tr th {\n",
       "        vertical-align: top;\n",
       "    }\n",
       "\n",
       "    .dataframe thead th {\n",
       "        text-align: right;\n",
       "    }\n",
       "</style>\n",
       "<table border=\"1\" class=\"dataframe\">\n",
       "  <thead>\n",
       "    <tr style=\"text-align: right;\">\n",
       "      <th></th>\n",
       "      <th>LINK</th>\n",
       "      <th>Markdown</th>\n",
       "    </tr>\n",
       "  </thead>\n",
       "  <tbody>\n",
       "    <tr>\n",
       "      <th>0</th>\n",
       "      <td>https://www.youtube.com/watch?v=eRvOVINVlo4&amp;ab...</td>\n",
       "      <td># CVS Stock is up 56% YTD - Pays a 3.7% Divide...</td>\n",
       "    </tr>\n",
       "    <tr>\n",
       "      <th>1</th>\n",
       "      <td>https://www.youtube.com/watch?v=vsMKDfMWseU&amp;ab...</td>\n",
       "      <td># CHINA EN CRISIS: EL YUAN HUNDIDO Y RIESGO DE...</td>\n",
       "    </tr>\n",
       "    <tr>\n",
       "      <th>2</th>\n",
       "      <td>https://www.youtube.com/watch?v=tIlOAmY_MZU&amp;t=...</td>\n",
       "      <td># ZIM Stock - Is the reward worth the risk?\\n\\...</td>\n",
       "    </tr>\n",
       "    <tr>\n",
       "      <th>3</th>\n",
       "      <td>https://www.youtube.com/watch?v=aXroGOjSiRs&amp;ab...</td>\n",
       "      <td># PIB NEGATIVO, Mercados Cayendo ¿recesión con...</td>\n",
       "    </tr>\n",
       "    <tr>\n",
       "      <th>4</th>\n",
       "      <td>https://www.youtube.com/watch?v=7lfb7rHgOWU&amp;ab...</td>\n",
       "      <td># 💥Se ACTIVA la SEÑAL MÁS ALCISTA de la BOLSA ...</td>\n",
       "    </tr>\n",
       "    <tr>\n",
       "      <th>5</th>\n",
       "      <td>https://www.youtube.com/watch?v=C3pjJVIbigk&amp;ab...</td>\n",
       "      <td># 🧐 NADIE VE ESTO: 📊El gráfico CLAVE que puede...</td>\n",
       "    </tr>\n",
       "    <tr>\n",
       "      <th>6</th>\n",
       "      <td>https://www.youtube.com/watch?v=Srv3H3ctq0g&amp;ab...</td>\n",
       "      <td># 💥La puntilla al imperio: tipos altos, DEUDA ...</td>\n",
       "    </tr>\n",
       "    <tr>\n",
       "      <th>7</th>\n",
       "      <td>https://www.youtube.com/watch?v=qltcvTFzY0k&amp;ab...</td>\n",
       "      <td># Warren Buffett - Portfolio Performance Updat...</td>\n",
       "    </tr>\n",
       "    <tr>\n",
       "      <th>8</th>\n",
       "      <td>https://www.youtube.com/watch?v=DRbD9NQo9lA&amp;ab...</td>\n",
       "      <td># Amazon Earnings Deep Dive - Here's Everythin...</td>\n",
       "    </tr>\n",
       "    <tr>\n",
       "      <th>9</th>\n",
       "      <td>https://www.youtube.com/watch?v=aSGpkxphE4o&amp;ab...</td>\n",
       "      <td># Don't Fall For It.\\n\\n        **Autor:** Tom...</td>\n",
       "    </tr>\n",
       "    <tr>\n",
       "      <th>10</th>\n",
       "      <td>https://www.youtube.com/watch?v=RrIGzPWEC4k&amp;ab...</td>\n",
       "      <td># Tom Lee: Earnings Stronger Than Expected for...</td>\n",
       "    </tr>\n",
       "    <tr>\n",
       "      <th>11</th>\n",
       "      <td>https://www.youtube.com/watch?v=Ip8Lpa_0nmI&amp;ab...</td>\n",
       "      <td># Rating EACH of the MAG 7 Stocks a BUY, SELL,...</td>\n",
       "    </tr>\n",
       "    <tr>\n",
       "      <th>12</th>\n",
       "      <td>https://www.youtube.com/watch?v=9L35jH1H-aQ&amp;ab...</td>\n",
       "      <td># Acciones CON POTENCIAL alcista: acciones REC...</td>\n",
       "    </tr>\n",
       "    <tr>\n",
       "      <th>13</th>\n",
       "      <td>https://www.youtube.com/watch?v=je7DooZ40cI&amp;ab...</td>\n",
       "      <td># Don’t Chase This Rally\\n\\n        **Autor:**...</td>\n",
       "    </tr>\n",
       "    <tr>\n",
       "      <th>14</th>\n",
       "      <td>https://www.youtube.com/watch?v=j5MqDj44wYA&amp;ab...</td>\n",
       "      <td># Las 2 mejores acciones para comprar en MAYO ...</td>\n",
       "    </tr>\n",
       "    <tr>\n",
       "      <th>15</th>\n",
       "      <td>https://www.youtube.com/watch?v=UDBv3ZgJW3w&amp;ab...</td>\n",
       "      <td># 🔴¿Está MICROSOFT MUY INFRAVALORADA?!⚠️ | Aná...</td>\n",
       "    </tr>\n",
       "    <tr>\n",
       "      <th>16</th>\n",
       "      <td>https://www.youtube.com/watch?v=8Yb7jZqzXyg&amp;ab...</td>\n",
       "      <td># Has Wall Street Just Trapped “DUMB MONEY”?\\n...</td>\n",
       "    </tr>\n",
       "    <tr>\n",
       "      <th>17</th>\n",
       "      <td>https://www.youtube.com/watch?v=li2WGHEA9PU&amp;ab...</td>\n",
       "      <td># This Market Rally Is A Trap!\\n\\n        **Au...</td>\n",
       "    </tr>\n",
       "    <tr>\n",
       "      <th>18</th>\n",
       "      <td>https://www.youtube.com/watch?v=EUiXhfxqj4s&amp;ab...</td>\n",
       "      <td># Buckle Up For ‘Tough 2025’ Warns Moody’s Chi...</td>\n",
       "    </tr>\n",
       "    <tr>\n",
       "      <th>19</th>\n",
       "      <td>https://www.youtube.com/watch?v=1WaQN7TPHjI&amp;ab...</td>\n",
       "      <td># 5 Stocks to BUY NOW in May 2025\\n\\n        *...</td>\n",
       "    </tr>\n",
       "    <tr>\n",
       "      <th>20</th>\n",
       "      <td>https://www.youtube.com/watch?v=EM-6krRkqU8&amp;ab...</td>\n",
       "      <td># The Next 18 Days Will Make Millionaires\\n\\n ...</td>\n",
       "    </tr>\n",
       "    <tr>\n",
       "      <th>21</th>\n",
       "      <td>https://www.youtube.com/watch?v=5dbjMUKMY6g&amp;ab...</td>\n",
       "      <td># The Economy is Officially Shrinking\\n\\n     ...</td>\n",
       "    </tr>\n",
       "    <tr>\n",
       "      <th>22</th>\n",
       "      <td>https://www.youtube.com/watch?v=vn4T-hN3tXE&amp;ab...</td>\n",
       "      <td># The New World Economy: How to Prepare for Wh...</td>\n",
       "    </tr>\n",
       "    <tr>\n",
       "      <th>23</th>\n",
       "      <td>https://www.youtube.com/watch?v=72eGXwkw1O0&amp;ab...</td>\n",
       "      <td># Fed Panics: New Silver &amp; Gold Laws Threaten ...</td>\n",
       "    </tr>\n",
       "    <tr>\n",
       "      <th>24</th>\n",
       "      <td>https://www.youtube.com/watch?v=l0Dp2ad2Y7k&amp;ab...</td>\n",
       "      <td># Treasury Secretary Says Emergency Rate Cuts ...</td>\n",
       "    </tr>\n",
       "    <tr>\n",
       "      <th>25</th>\n",
       "      <td>https://www.youtube.com/watch?v=g1-a7ectpCo&amp;ab...</td>\n",
       "      <td># Japan Has Fallen: Here's What It Means for t...</td>\n",
       "    </tr>\n",
       "    <tr>\n",
       "      <th>26</th>\n",
       "      <td>https://www.youtube.com/watch?v=vUEpTd2EeQA&amp;ab...</td>\n",
       "      <td># US Recession is Here? What I Am Buying!\\n\\n ...</td>\n",
       "    </tr>\n",
       "    <tr>\n",
       "      <th>27</th>\n",
       "      <td>https://www.youtube.com/watch?v=hIyQL98mvh0&amp;ab...</td>\n",
       "      <td># Stock markets have already recovered the los...</td>\n",
       "    </tr>\n",
       "    <tr>\n",
       "      <th>28</th>\n",
       "      <td>https://www.youtube.com/watch?v=lnEJJUtAr1A&amp;ab...</td>\n",
       "      <td># US Economy Just Went Negative — Here's What ...</td>\n",
       "    </tr>\n",
       "    <tr>\n",
       "      <th>29</th>\n",
       "      <td>https://www.youtube.com/watch?v=KID04bsjs4w&amp;ab...</td>\n",
       "      <td># Análisis Acciones GOOGLE ¿Es RENTABLE INVERT...</td>\n",
       "    </tr>\n",
       "    <tr>\n",
       "      <th>30</th>\n",
       "      <td>https://www.youtube.com/watch?v=pPyOUpDKwXs&amp;ab...</td>\n",
       "      <td># Descubre la Inversión Millonaria de Warren B...</td>\n",
       "    </tr>\n",
       "    <tr>\n",
       "      <th>31</th>\n",
       "      <td>https://www.youtube.com/watch?v=5yO4w03x0WA&amp;ab...</td>\n",
       "      <td># Pregunto a Emprendedoras De Dubai: ¿Cómo Gan...</td>\n",
       "    </tr>\n",
       "    <tr>\n",
       "      <th>32</th>\n",
       "      <td>https://www.youtube.com/watch?v=QjIED_WQmH0&amp;t=...</td>\n",
       "      <td># 🥤 PepsiCo (PEP): ¿Es hora de comprar? Anális...</td>\n",
       "    </tr>\n",
       "    <tr>\n",
       "      <th>33</th>\n",
       "      <td>https://www.youtube.com/watch?v=31KQfLdG5Ss&amp;ab...</td>\n",
       "      <td># Why the US Treasury Market is on the Brink o...</td>\n",
       "    </tr>\n",
       "    <tr>\n",
       "      <th>34</th>\n",
       "      <td>https://www.youtube.com/watch?v=vqF9T1uO3wA&amp;ab...</td>\n",
       "      <td># TRUMP ESTALLA tras los DATOS de EMPLEO | Wal...</td>\n",
       "    </tr>\n",
       "    <tr>\n",
       "      <th>35</th>\n",
       "      <td>https://www.youtube.com/watch?v=Pui6KCTrtwg&amp;ab...</td>\n",
       "      <td># CAMBIOS GRANDES EN MI PORTAFOLIO (Revelando ...</td>\n",
       "    </tr>\n",
       "    <tr>\n",
       "      <th>36</th>\n",
       "      <td>https://www.youtube.com/watch?v=m-hBWtxOse4&amp;ab...</td>\n",
       "      <td># Meta has exceptional earnings - how high wil...</td>\n",
       "    </tr>\n",
       "    <tr>\n",
       "      <th>37</th>\n",
       "      <td>https://www.youtube.com/watch?v=UYrHrAGWHTU&amp;ab...</td>\n",
       "      <td># Chevron pays a 5% dividend and is a discount...</td>\n",
       "    </tr>\n",
       "    <tr>\n",
       "      <th>38</th>\n",
       "      <td>https://www.youtube.com/watch?v=4tf5ZulYozE&amp;ab...</td>\n",
       "      <td># Politician shows insider buying of Oil stock...</td>\n",
       "    </tr>\n",
       "    <tr>\n",
       "      <th>39</th>\n",
       "      <td>https://www.youtube.com/watch?v=aVs6HuPHPls&amp;ab...</td>\n",
       "      <td># This Market Bottom Will Make Millionaires - ...</td>\n",
       "    </tr>\n",
       "  </tbody>\n",
       "</table>\n",
       "</div>"
      ],
      "text/plain": [
       "                                                 LINK  \\\n",
       "0   https://www.youtube.com/watch?v=eRvOVINVlo4&ab...   \n",
       "1   https://www.youtube.com/watch?v=vsMKDfMWseU&ab...   \n",
       "2   https://www.youtube.com/watch?v=tIlOAmY_MZU&t=...   \n",
       "3   https://www.youtube.com/watch?v=aXroGOjSiRs&ab...   \n",
       "4   https://www.youtube.com/watch?v=7lfb7rHgOWU&ab...   \n",
       "5   https://www.youtube.com/watch?v=C3pjJVIbigk&ab...   \n",
       "6   https://www.youtube.com/watch?v=Srv3H3ctq0g&ab...   \n",
       "7   https://www.youtube.com/watch?v=qltcvTFzY0k&ab...   \n",
       "8   https://www.youtube.com/watch?v=DRbD9NQo9lA&ab...   \n",
       "9   https://www.youtube.com/watch?v=aSGpkxphE4o&ab...   \n",
       "10  https://www.youtube.com/watch?v=RrIGzPWEC4k&ab...   \n",
       "11  https://www.youtube.com/watch?v=Ip8Lpa_0nmI&ab...   \n",
       "12  https://www.youtube.com/watch?v=9L35jH1H-aQ&ab...   \n",
       "13  https://www.youtube.com/watch?v=je7DooZ40cI&ab...   \n",
       "14  https://www.youtube.com/watch?v=j5MqDj44wYA&ab...   \n",
       "15  https://www.youtube.com/watch?v=UDBv3ZgJW3w&ab...   \n",
       "16  https://www.youtube.com/watch?v=8Yb7jZqzXyg&ab...   \n",
       "17  https://www.youtube.com/watch?v=li2WGHEA9PU&ab...   \n",
       "18  https://www.youtube.com/watch?v=EUiXhfxqj4s&ab...   \n",
       "19  https://www.youtube.com/watch?v=1WaQN7TPHjI&ab...   \n",
       "20  https://www.youtube.com/watch?v=EM-6krRkqU8&ab...   \n",
       "21  https://www.youtube.com/watch?v=5dbjMUKMY6g&ab...   \n",
       "22  https://www.youtube.com/watch?v=vn4T-hN3tXE&ab...   \n",
       "23  https://www.youtube.com/watch?v=72eGXwkw1O0&ab...   \n",
       "24  https://www.youtube.com/watch?v=l0Dp2ad2Y7k&ab...   \n",
       "25  https://www.youtube.com/watch?v=g1-a7ectpCo&ab...   \n",
       "26  https://www.youtube.com/watch?v=vUEpTd2EeQA&ab...   \n",
       "27  https://www.youtube.com/watch?v=hIyQL98mvh0&ab...   \n",
       "28  https://www.youtube.com/watch?v=lnEJJUtAr1A&ab...   \n",
       "29  https://www.youtube.com/watch?v=KID04bsjs4w&ab...   \n",
       "30  https://www.youtube.com/watch?v=pPyOUpDKwXs&ab...   \n",
       "31  https://www.youtube.com/watch?v=5yO4w03x0WA&ab...   \n",
       "32  https://www.youtube.com/watch?v=QjIED_WQmH0&t=...   \n",
       "33  https://www.youtube.com/watch?v=31KQfLdG5Ss&ab...   \n",
       "34  https://www.youtube.com/watch?v=vqF9T1uO3wA&ab...   \n",
       "35  https://www.youtube.com/watch?v=Pui6KCTrtwg&ab...   \n",
       "36  https://www.youtube.com/watch?v=m-hBWtxOse4&ab...   \n",
       "37  https://www.youtube.com/watch?v=UYrHrAGWHTU&ab...   \n",
       "38  https://www.youtube.com/watch?v=4tf5ZulYozE&ab...   \n",
       "39  https://www.youtube.com/watch?v=aVs6HuPHPls&ab...   \n",
       "\n",
       "                                             Markdown  \n",
       "0   # CVS Stock is up 56% YTD - Pays a 3.7% Divide...  \n",
       "1   # CHINA EN CRISIS: EL YUAN HUNDIDO Y RIESGO DE...  \n",
       "2   # ZIM Stock - Is the reward worth the risk?\\n\\...  \n",
       "3   # PIB NEGATIVO, Mercados Cayendo ¿recesión con...  \n",
       "4   # 💥Se ACTIVA la SEÑAL MÁS ALCISTA de la BOLSA ...  \n",
       "5   # 🧐 NADIE VE ESTO: 📊El gráfico CLAVE que puede...  \n",
       "6   # 💥La puntilla al imperio: tipos altos, DEUDA ...  \n",
       "7   # Warren Buffett - Portfolio Performance Updat...  \n",
       "8   # Amazon Earnings Deep Dive - Here's Everythin...  \n",
       "9   # Don't Fall For It.\\n\\n        **Autor:** Tom...  \n",
       "10  # Tom Lee: Earnings Stronger Than Expected for...  \n",
       "11  # Rating EACH of the MAG 7 Stocks a BUY, SELL,...  \n",
       "12  # Acciones CON POTENCIAL alcista: acciones REC...  \n",
       "13  # Don’t Chase This Rally\\n\\n        **Autor:**...  \n",
       "14  # Las 2 mejores acciones para comprar en MAYO ...  \n",
       "15  # 🔴¿Está MICROSOFT MUY INFRAVALORADA?!⚠️ | Aná...  \n",
       "16  # Has Wall Street Just Trapped “DUMB MONEY”?\\n...  \n",
       "17  # This Market Rally Is A Trap!\\n\\n        **Au...  \n",
       "18  # Buckle Up For ‘Tough 2025’ Warns Moody’s Chi...  \n",
       "19  # 5 Stocks to BUY NOW in May 2025\\n\\n        *...  \n",
       "20  # The Next 18 Days Will Make Millionaires\\n\\n ...  \n",
       "21  # The Economy is Officially Shrinking\\n\\n     ...  \n",
       "22  # The New World Economy: How to Prepare for Wh...  \n",
       "23  # Fed Panics: New Silver & Gold Laws Threaten ...  \n",
       "24  # Treasury Secretary Says Emergency Rate Cuts ...  \n",
       "25  # Japan Has Fallen: Here's What It Means for t...  \n",
       "26  # US Recession is Here? What I Am Buying!\\n\\n ...  \n",
       "27  # Stock markets have already recovered the los...  \n",
       "28  # US Economy Just Went Negative — Here's What ...  \n",
       "29  # Análisis Acciones GOOGLE ¿Es RENTABLE INVERT...  \n",
       "30  # Descubre la Inversión Millonaria de Warren B...  \n",
       "31  # Pregunto a Emprendedoras De Dubai: ¿Cómo Gan...  \n",
       "32  # 🥤 PepsiCo (PEP): ¿Es hora de comprar? Anális...  \n",
       "33  # Why the US Treasury Market is on the Brink o...  \n",
       "34  # TRUMP ESTALLA tras los DATOS de EMPLEO | Wal...  \n",
       "35  # CAMBIOS GRANDES EN MI PORTAFOLIO (Revelando ...  \n",
       "36  # Meta has exceptional earnings - how high wil...  \n",
       "37  # Chevron pays a 5% dividend and is a discount...  \n",
       "38  # Politician shows insider buying of Oil stock...  \n",
       "39  # This Market Bottom Will Make Millionaires - ...  "
      ]
     },
     "execution_count": 31,
     "metadata": {},
     "output_type": "execute_result"
    }
   ],
   "source": [
    "df_yt[\"Markdown\"] = df_yt[\"Markdown\"].astype(str)\n",
    "markdown_unificado = \"\\n\\n---\\n\\n\".join(df_yt[\"Markdown\"])\n",
    "\n",
    "# Guardar el archivo markdown combinado\n",
    "ruta_md_final = \"D:/002. Proyectos ML/11. Curso_OpenAI/20250503_01.md\"\n",
    "with open(ruta_md_final, \"w\", encoding=\"utf-8\") as f:\n",
    "    f.write(markdown_unificado)\n",
    "df_yt\n"
   ]
  }
 ],
 "metadata": {
  "kernelspec": {
   "display_name": "Python 3",
   "language": "python",
   "name": "python3"
  },
  "language_info": {
   "codemirror_mode": {
    "name": "ipython",
    "version": 3
   },
   "file_extension": ".py",
   "mimetype": "text/x-python",
   "name": "python",
   "nbconvert_exporter": "python",
   "pygments_lexer": "ipython3",
   "version": "3.8.10"
  },
  "orig_nbformat": 4
 },
 "nbformat": 4,
 "nbformat_minor": 2
}
